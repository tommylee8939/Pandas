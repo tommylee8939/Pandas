{
 "cells": [
  {
   "cell_type": "code",
   "execution_count": 1,
   "metadata": {},
   "outputs": [],
   "source": [
    "import os"
   ]
  },
  {
   "cell_type": "markdown",
   "id": "970f2721",
   "metadata": {},
   "source": [
    "### 파이썬에서 파일을 로드하는 방법\n",
    "#### 1. 파이썬 내장 모듈\n",
    "####  2. numpy\n",
    "#### 3. pandas"
   ]
  },
  {
   "cell_type": "markdown",
   "id": "a58e68db",
   "metadata": {},
   "source": [
    "### 1.파이썬 내장 모듈\n",
    "- open\n",
    "    - open(path,mode,encoding,newline)\n",
    "    - 모드를 설정해주어야한다\n",
    "        - 'r' 읽기\n",
    "        - 'w' 쓰기\n",
    "        - 'a' 수정\n",
    "    - with 구문 쓰기 않으면 반드시 close 해준다"
   ]
  },
  {
   "attachments": {},
   "cell_type": "markdown",
   "metadata": {},
   "source": [
    "**파일 쓰기**"
   ]
  },
  {
   "cell_type": "code",
   "execution_count": 35,
   "metadata": {},
   "outputs": [],
   "source": [
    "# 내장 모듈로 파일 쓰는범 => open(path,mode,encoding,newline)\n",
    "# newline 밑에가서 다시 자세하게 다루자\n",
    "file = open('Test_folder/test.txt',mode='w')\n",
    "file.write('1번째 줄입니다\\n')\n",
    "file.close()"
   ]
  },
  {
   "cell_type": "code",
   "execution_count": 36,
   "metadata": {},
   "outputs": [],
   "source": [
    "# 위에 작업한 파일에 덧붙여서 작업하기 때문에 모드를 'a'로 한다\n",
    "# 만약 'w'로 했으면 다 날라간다\n",
    "file = open('Test_folder/test.txt','a')\n",
    "for i in range(2,11):\n",
    "    file.write('{}번째 줄입니다\\n'.format(i))\n",
    "    \n",
    "file.close()"
   ]
  },
  {
   "attachments": {},
   "cell_type": "markdown",
   "metadata": {},
   "source": [
    "**파일 읽기**\n",
    "- file.read()\n",
    "    - 전체를 다 문자열로 읽는다\n",
    "- file.readline()\n",
    "    - 한줄을 문자열로 읽어드림\n",
    "- file.readlines()\n",
    "    - 라인별로 리스트형태로 가져온다"
   ]
  },
  {
   "cell_type": "code",
   "execution_count": 37,
   "metadata": {},
   "outputs": [
    {
     "data": {
      "text/plain": [
       "'1번째 줄입니다\\n2번째 줄입니다\\n3번째 줄입니다\\n4번째 줄입니다\\n5번째 줄입니다\\n6번째 줄입니다\\n7번째 줄입니다\\n8번째 줄입니다\\n9번째 줄입니다\\n10번째 줄입니다\\n'"
      ]
     },
     "metadata": {},
     "output_type": "display_data"
    }
   ],
   "source": [
    "# read\n",
    "# 전체를 한번에 읽는다\n",
    "file = open('Test_folder/test.txt',mode='r') # default mode는 'r'이다\n",
    "display(file.read())\n",
    "file.close()"
   ]
  },
  {
   "cell_type": "code",
   "execution_count": 41,
   "metadata": {},
   "outputs": [
    {
     "data": {
      "text/plain": [
       "'1번째 줄입니다\\n2'"
      ]
     },
     "metadata": {},
     "output_type": "display_data"
    }
   ],
   "source": [
    "# read(int)\n",
    "# 지정된 정수번째 까지 읽는다\n",
    "file = open('Test_folder/test.txt',mode='r') # default mode는 'r'이다\n",
    "display(file.read(10))\n",
    "file.close()"
   ]
  },
  {
   "cell_type": "code",
   "execution_count": 40,
   "metadata": {},
   "outputs": [
    {
     "data": {
      "text/plain": [
       "'1번째 줄입니다\\n'"
      ]
     },
     "metadata": {},
     "output_type": "display_data"
    },
    {
     "data": {
      "text/plain": [
       "'2번째 줄입니다\\n'"
      ]
     },
     "metadata": {},
     "output_type": "display_data"
    }
   ],
   "source": [
    "# readline()\n",
    "# 한줄씩 읽는다\n",
    "file = open('Test_folder/test.txt',mode='r') # default mode는 'r'이다\n",
    "display(file.readline())\n",
    "display(file.readline())\n",
    "file.close()"
   ]
  },
  {
   "cell_type": "code",
   "execution_count": 39,
   "metadata": {},
   "outputs": [
    {
     "data": {
      "text/plain": [
       "['1번째 줄입니다\\n',\n",
       " '2번째 줄입니다\\n',\n",
       " '3번째 줄입니다\\n',\n",
       " '4번째 줄입니다\\n',\n",
       " '5번째 줄입니다\\n',\n",
       " '6번째 줄입니다\\n',\n",
       " '7번째 줄입니다\\n',\n",
       " '8번째 줄입니다\\n',\n",
       " '9번째 줄입니다\\n',\n",
       " '10번째 줄입니다\\n']"
      ]
     },
     "metadata": {},
     "output_type": "display_data"
    }
   ],
   "source": [
    "# realines\n",
    "# 각 줄으 리스트로\n",
    "file = open('Test_folder/test.txt',mode='r') # default mode는 'r'이다\n",
    "display(file.readlines())\n",
    "file.close()"
   ]
  },
  {
   "attachments": {},
   "cell_type": "markdown",
   "metadata": {},
   "source": [
    "**Buffer**\n",
    "- 자바 에서 겁나 했었다"
   ]
  },
  {
   "cell_type": "code",
   "execution_count": 49,
   "metadata": {},
   "outputs": [],
   "source": [
    "file = open('Test_folder/test.txt','r')\n",
    "file.readline()\n",
    "file.close() ## 이걸 언제까지 하고 있을거냐"
   ]
  },
  {
   "cell_type": "code",
   "execution_count": 51,
   "metadata": {},
   "outputs": [
    {
     "name": "stdout",
     "output_type": "stream",
     "text": [
      "1번째 줄입니다\n",
      "\n",
      "2번째 줄입니다\n",
      "\n",
      "3번째 줄입니다\n",
      "\n",
      "4번째 줄입니다\n",
      "\n",
      "5번째 줄입니다\n",
      "\n",
      "6번째 줄입니다\n",
      "\n",
      "7번째 줄입니다\n",
      "\n",
      "8번째 줄입니다\n",
      "\n",
      "9번째 줄입니다\n",
      "\n",
      "10번째 줄입니다\n",
      "\n"
     ]
    }
   ],
   "source": [
    "file = open('Test_folder/test.txt','r')\n",
    "for line in file:\n",
    "    print(line)\n",
    "file.close()"
   ]
  },
  {
   "cell_type": "code",
   "execution_count": 52,
   "metadata": {},
   "outputs": [
    {
     "name": "stdout",
     "output_type": "stream",
     "text": [
      "입니다\n",
      "\n",
      "3번째 줄입니다\n",
      "\n",
      "4번째 줄입니다\n",
      "\n",
      "5번째 줄입니다\n",
      "\n",
      "6번째 줄입니다\n",
      "\n",
      "7번째 줄입니다\n",
      "\n",
      "8번째 줄입니다\n",
      "\n",
      "9번째 줄입니다\n",
      "\n",
      "10번째 줄입니다\n",
      "\n"
     ]
    }
   ],
   "source": [
    "# BUffer이기 때문에 호출해서 몇줄 혹은 몇글자는 그냥 버릴수 잇다\n",
    "file = open('Test_folder/test.txt',mode='r')\n",
    "file.readline()\n",
    "file.read(5)\n",
    "for line in file:\n",
    "    print(line)\n",
    "file.close()"
   ]
  },
  {
   "attachments": {},
   "cell_type": "markdown",
   "metadata": {},
   "source": [
    "**with문**\n",
    "\n",
    "매번 file clos해주기 귀찮으니깐 with문으로 처리해버리자"
   ]
  },
  {
   "cell_type": "code",
   "execution_count": 53,
   "metadata": {},
   "outputs": [
    {
     "name": "stdout",
     "output_type": "stream",
     "text": [
      "1번째 줄입니다\n",
      "\n",
      "2번째 줄입니다\n",
      "\n",
      "3번째 줄입니다\n",
      "\n",
      "4번째 줄입니다\n",
      "\n",
      "5번째 줄입니다\n",
      "\n",
      "6번째 줄입니다\n",
      "\n",
      "7번째 줄입니다\n",
      "\n",
      "8번째 줄입니다\n",
      "\n",
      "9번째 줄입니다\n",
      "\n",
      "10번째 줄입니다\n",
      "\n"
     ]
    }
   ],
   "source": [
    "with open('Test_folder/test.txt',mode='r') as f:\n",
    "    for line in f:\n",
    "        print(line)\n"
   ]
  },
  {
   "attachments": {},
   "cell_type": "markdown",
   "id": "1d9f2dd9",
   "metadata": {},
   "source": [
    "#### newline\n",
    "- default = None \n",
    "- 파일 읽을때\n",
    "    - None 일때 : ('\\n','\\r','\\r\\n') 싹다 -> '\\n'로 변환됩니다\n",
    "    - ''일때 : 모두 '\\n'로 인식 근데 변환되어 문자열로 주지는 않는다\n",
    "    - '\\n', '\\r\\n' 또는 '\\r' 일때 : 주어진 문자만을 개행문자로 인식 ( readlines()해서 리스트를 보면 어떤식으로 개행문자 인식했는지 알수 있음 ) \n",
    "    \n",
    "- 파일 쓸때\n",
    "    - None일때 : 모든 '\\n'이 os.linesep 로 변경됨 (맥에서는 '\\n'이 기본 linesep이기 때문에 변화 없음)\n",
    "    - '' 또는 '\\n'일때 아무 변화 없음\n",
    "    - '\\r' 또는 '\\r\\n' 으로 설정시 : '\\n'을 해당 문자열로 바꿔서 write한다"
   ]
  },
  {
   "attachments": {},
   "cell_type": "markdown",
   "id": "cc3c60e2",
   "metadata": {},
   "source": [
    "#### 윈도우에서느 newline = '' 추가해줘야지 쓸데없는 개행 방지\n",
    "    - 윈도우의 os.linesep 는 '\\r\\n'이다\n",
    "    - 파일을 default값인 newline = None으로 열개되면 파일을 쓸때 '\\n'을 다시 '\\r\\n'으로 변경하여 '\\r\\r\\n'이되면서 개행을 두번하게 된다\n",
    "    - 맥에서는 상관없다"
   ]
  },
  {
   "cell_type": "code",
   "execution_count": 32,
   "metadata": {},
   "outputs": [
    {
     "data": {
      "text/plain": [
       "['안녕하세요 \\r\\n', '! 파이썬 파일 쓰기 방법에 대해 배우고있습니다\\r']"
      ]
     },
     "metadata": {},
     "output_type": "display_data"
    },
    {
     "data": {
      "text/plain": [
       "['안녕하세요 \\n', '! 파이썬 파일 쓰기 방법에 대해 배우고있습니다\\n']"
      ]
     },
     "metadata": {},
     "output_type": "display_data"
    },
    {
     "data": {
      "text/plain": [
       "['안녕하세요 \\r', '\\n! 파이썬 파일 쓰기 방법에 대해 배우고있습니다\\r']"
      ]
     },
     "metadata": {},
     "output_type": "display_data"
    }
   ],
   "source": [
    "# testText_rn에 \\r\\n 과 \\r 이용해서 테스트 만들어봤다\n",
    "# 아래 open 을 통해 newline 어케 적용되는지 보기 위함\n",
    "file = open('testText_rn.txt','w',newline='') # '' 또는 '\\n' 알때 아무일도 일어나지 않음\n",
    "file.write('안녕하세요 \\r\\n')\n",
    "file.write('!')\n",
    "file.write(' 파이썬 파일 쓰기 방법에 대해 배우고있습니다\\r')\n",
    "file.close()\n",
    "\n",
    "# open 할때 그냥 싹다 \\n으로 인식 => 출력하는데 문제 없음\n",
    "# 근데 실제 파일이 변환되지는 않을거다\n",
    "file = open('testText_rn.txt',mode='r',newline='')  #  \\r \\r\\n \\n 모두 => \\n으로 인식한다(리스트 보면 그 기준으로 끊겨있다). 근데 \\n으로 바꿔서 돌려주진 않음\n",
    "display(file.readlines())\n",
    "file.close()\n",
    "\n",
    "file = open('testText_rn.txt',mode='r',newline=None)  \n",
    "display(file.readlines()) # \\r \\r\\n \\n 모두 => \\n으로 인식하고 \\n으로 바꿔서 문자열 받는다\n",
    "file.close()\n",
    "\n",
    "file = open('testText_rn.txt',mode='r',newline='\\r')  # 주어진 newline 만을 개행문자로 인식한다 (\\r\\n이 불리되서 다른 리스트에 들어가있다)\n",
    "display(file.readlines())\n",
    "file.close()"
   ]
  },
  {
   "cell_type": "code",
   "execution_count": 33,
   "metadata": {},
   "outputs": [
    {
     "data": {
      "text/plain": [
       "['안녕하세요 \\r', '\\r\\n', '! 파이썬 파일 쓰기 방법에 대해 배우고있습니다\\r']"
      ]
     },
     "metadata": {},
     "output_type": "display_data"
    }
   ],
   "source": [
    "# 맥에서는 write해도 None할때 아무 변화 없다\n",
    "# 추가로 '' '\\n'해도 원래 아무 변화 없다\n",
    "# '\\r' '\\rn'으로 설정하면 '\\n'이 해당 문자로 바뀌고 써진다\n",
    "file = open('testText.txt','w',newline='\\r\\n') \n",
    "file.write('안녕하세요 \\r\\n') # \\r\\r\\n이 되어비럴거다\n",
    "file.write('!')\n",
    "file.write(' 파이썬 파일 쓰기 방법에 대해 배우고있습니다\\r') # 그대로겠다\n",
    "file.close()\n",
    "\n",
    "file = open('testText.txt',mode='r',newline='')  #  \\r \\r\\n \\n 모두 => \\n으로 인식한다(리스트 보면 그 기준으로 끊겨있다). 근데 \\n으로 바꿔서 돌려주진 않음\n",
    "display(file.readlines())\n",
    "file.close()"
   ]
  },
  {
   "cell_type": "markdown",
   "id": "40aec826",
   "metadata": {},
   "source": [
    "#### csv\n",
    "- 파일쓰기\n",
    "    - file = open(mode='w')\n",
    "    - writer = csv.wirter(file)\n",
    "    - writer.writerow(list형식)\n",
    "- 파일읽기\n",
    "    - file = open(mode='r')\n",
    "    - reader = csv.reader(file)\n",
    "    - for line in reader: => line은 리스트형식으로 값을 받아온다\n",
    "    \n",
    "- csv.write 혹은 csv.reader 에 delimeter 혹은 quotes옵션 줄 수 있다"
   ]
  },
  {
   "cell_type": "code",
   "execution_count": 43,
   "metadata": {},
   "outputs": [],
   "source": [
    "import csv"
   ]
  },
  {
   "cell_type": "code",
   "execution_count": 44,
   "metadata": {},
   "outputs": [],
   "source": [
    "# writerow\n",
    "# 리스트로 한줄씩 집어넣는다\n",
    "file = open('Test_folder/testCsv.csv','w')\n",
    "csvWriter = csv.writer(file)\n",
    "csvWriter.writerow([1, \"김정수\", False])\n",
    "csvWriter.writerow([2, \"박상미\", True])\n",
    "file.close()"
   ]
  },
  {
   "cell_type": "code",
   "execution_count": 56,
   "metadata": {},
   "outputs": [
    {
     "name": "stdout",
     "output_type": "stream",
     "text": [
      "['1', '김정수', 'False']\n",
      "['2', '박상미', 'True']\n"
     ]
    }
   ],
   "source": [
    "file = open('Test_folder/testCsv.csv',mode='r')\n",
    "reader = csv.reader(file)\n",
    "for line in reader:\n",
    "    print(line)"
   ]
  },
  {
   "cell_type": "code",
   "execution_count": 59,
   "metadata": {},
   "outputs": [],
   "source": [
    "# header 를 쓰고 싶다 => 그냥 한줄 더 쓰는거다\n",
    "file = open('Test_folder/testCsv.csv','w')\n",
    "csvWriter = csv.writer(file)\n",
    "csvWriter.writerow(['id', \"name\", 'Bool'])\n",
    "csvWriter.writerow([1, \"김정수\", False])\n",
    "csvWriter.writerow([2, \"박상미\", True])\n",
    "file.close()\n"
   ]
  },
  {
   "cell_type": "code",
   "execution_count": 62,
   "metadata": {},
   "outputs": [
    {
     "name": "stdout",
     "output_type": "stream",
     "text": [
      "['1', '김정수', 'False']\n",
      "['2', '박상미', 'True']\n"
     ]
    }
   ],
   "source": [
    "# header pass하고 읽기\n",
    "file = open('Test_folder/testCsv.csv',mode='r')\n",
    "reader = csv.reader(file)\n",
    "next(reader)\n",
    "for line in reader:\n",
    "    print(line)"
   ]
  },
  {
   "cell_type": "code",
   "execution_count": 69,
   "metadata": {},
   "outputs": [
    {
     "name": "stdout",
     "output_type": "stream",
     "text": [
      "['1', '김정수', 'False']\n",
      "['2', '박상미', 'True']\n"
     ]
    }
   ],
   "source": [
    "# write delimeter \n",
    "file = open('Test_folder/testCsv.csv','w')\n",
    "csvWriter = csv.writer(file,delimiter=':')\n",
    "csvWriter.writerow(['id', \"name\", 'Bool'])\n",
    "csvWriter.writerow([1, \"김정수\", False])\n",
    "csvWriter.writerow([2, \"박상미\", True])\n",
    "file.close()\n",
    "\n",
    "\n",
    "file = open('Test_folder/testCsv.csv',mode='r')\n",
    "reader = csv.reader(file,delimiter=':')\n",
    "next(reader)\n",
    "for line in reader:\n",
    "    print(line)"
   ]
  },
  {
   "cell_type": "markdown",
   "id": "e2577382",
   "metadata": {},
   "source": [
    "### 2. numpy\n",
    "- loadtxt\n",
    "- 2차원 array형식으로 데이터를 불러온다\n",
    "- 하나의 타입밖에 설정 못한다 주의해야한다 => dtype 설정 가능"
   ]
  },
  {
   "cell_type": "code",
   "execution_count": 71,
   "metadata": {},
   "outputs": [],
   "source": [
    "import numpy as np"
   ]
  },
  {
   "cell_type": "code",
   "execution_count": 72,
   "id": "b73ac481",
   "metadata": {},
   "outputs": [
    {
     "data": {
      "text/plain": [
       "array([[        1,      1193,         5, 978300760],\n",
       "       [        1,       661,         3, 978302109],\n",
       "       [        1,       914,         3, 978301968],\n",
       "       ...,\n",
       "       [     6040,       562,         5, 956704746],\n",
       "       [     6040,      1096,         4, 956715648],\n",
       "       [     6040,      1097,         4, 956715569]])"
      ]
     },
     "execution_count": 72,
     "metadata": {},
     "output_type": "execute_result"
    }
   ],
   "source": [
    "np.loadtxt('Data/ratings.dat' , delimiter = \"::\", dtype=np.int64)"
   ]
  },
  {
   "cell_type": "markdown",
   "id": "a83c285b",
   "metadata": {},
   "source": [
    "### 3. pandas\n",
    "- pd.read_csv()\n",
    "- 옵션들\n",
    "    - header   # default ='infer'\n",
    "    - index_col\n",
    "    - skiprows\n",
    "    - delimiter quotechar\n",
    "    - infer_datetime_format # default = False"
   ]
  },
  {
   "cell_type": "code",
   "execution_count": 84,
   "metadata": {},
   "outputs": [],
   "source": [
    "import pandas as pd\n",
    "from IPython.core.interactiveshell import InteractiveShell\n",
    "InteractiveShell.ast_node_interactivity = \"all\""
   ]
  },
  {
   "cell_type": "code",
   "execution_count": 76,
   "metadata": {},
   "outputs": [
    {
     "data": {
      "text/html": [
       "<div>\n",
       "<style scoped>\n",
       "    .dataframe tbody tr th:only-of-type {\n",
       "        vertical-align: middle;\n",
       "    }\n",
       "\n",
       "    .dataframe tbody tr th {\n",
       "        vertical-align: top;\n",
       "    }\n",
       "\n",
       "    .dataframe thead th {\n",
       "        text-align: right;\n",
       "    }\n",
       "</style>\n",
       "<table border=\"1\" class=\"dataframe\">\n",
       "  <thead>\n",
       "    <tr style=\"text-align: right;\">\n",
       "      <th></th>\n",
       "      <th>c0</th>\n",
       "      <th>c1</th>\n",
       "      <th>c2</th>\n",
       "      <th>c3</th>\n",
       "    </tr>\n",
       "  </thead>\n",
       "  <tbody>\n",
       "    <tr>\n",
       "      <th>0</th>\n",
       "      <td>0</td>\n",
       "      <td>1</td>\n",
       "      <td>4</td>\n",
       "      <td>7</td>\n",
       "    </tr>\n",
       "    <tr>\n",
       "      <th>1</th>\n",
       "      <td>1</td>\n",
       "      <td>2</td>\n",
       "      <td>5</td>\n",
       "      <td>8</td>\n",
       "    </tr>\n",
       "    <tr>\n",
       "      <th>2</th>\n",
       "      <td>2</td>\n",
       "      <td>3</td>\n",
       "      <td>6</td>\n",
       "      <td>9</td>\n",
       "    </tr>\n",
       "  </tbody>\n",
       "</table>\n",
       "</div>"
      ],
      "text/plain": [
       "   c0  c1  c2  c3\n",
       "0   0   1   4   7\n",
       "1   1   2   5   8\n",
       "2   2   3   6   9"
      ]
     },
     "execution_count": 76,
     "metadata": {},
     "output_type": "execute_result"
    }
   ],
   "source": [
    "# header에 bool값 아니다 -> 에러난다\n",
    "# row specify 해주자\n",
    "pd.read_csv('Data/read_csv_sample.csv',header=0)"
   ]
  },
  {
   "cell_type": "code",
   "execution_count": 82,
   "id": "4bb8bd9c",
   "metadata": {},
   "outputs": [
    {
     "data": {
      "text/html": [
       "<div>\n",
       "<style scoped>\n",
       "    .dataframe tbody tr th:only-of-type {\n",
       "        vertical-align: middle;\n",
       "    }\n",
       "\n",
       "    .dataframe tbody tr th {\n",
       "        vertical-align: top;\n",
       "    }\n",
       "\n",
       "    .dataframe thead th {\n",
       "        text-align: right;\n",
       "    }\n",
       "</style>\n",
       "<table border=\"1\" class=\"dataframe\">\n",
       "  <thead>\n",
       "    <tr style=\"text-align: right;\">\n",
       "      <th></th>\n",
       "      <th>0</th>\n",
       "      <th>1</th>\n",
       "      <th>2</th>\n",
       "      <th>3</th>\n",
       "    </tr>\n",
       "  </thead>\n",
       "  <tbody>\n",
       "    <tr>\n",
       "      <th>0</th>\n",
       "      <td>c0</td>\n",
       "      <td>c1</td>\n",
       "      <td>c2</td>\n",
       "      <td>c3</td>\n",
       "    </tr>\n",
       "    <tr>\n",
       "      <th>1</th>\n",
       "      <td>0</td>\n",
       "      <td>1</td>\n",
       "      <td>4</td>\n",
       "      <td>7</td>\n",
       "    </tr>\n",
       "    <tr>\n",
       "      <th>2</th>\n",
       "      <td>1</td>\n",
       "      <td>2</td>\n",
       "      <td>5</td>\n",
       "      <td>8</td>\n",
       "    </tr>\n",
       "    <tr>\n",
       "      <th>3</th>\n",
       "      <td>2</td>\n",
       "      <td>3</td>\n",
       "      <td>6</td>\n",
       "      <td>9</td>\n",
       "    </tr>\n",
       "  </tbody>\n",
       "</table>\n",
       "</div>"
      ],
      "text/plain": [
       "    0   1   2   3\n",
       "0  c0  c1  c2  c3\n",
       "1   0   1   4   7\n",
       "2   1   2   5   8\n",
       "3   2   3   6   9"
      ]
     },
     "execution_count": 82,
     "metadata": {},
     "output_type": "execute_result"
    }
   ],
   "source": [
    "pd.read_csv('Data/read_csv_sample.csv',header=None)"
   ]
  },
  {
   "cell_type": "code",
   "execution_count": 85,
   "metadata": {},
   "outputs": [
    {
     "data": {
      "text/html": [
       "<div>\n",
       "<style scoped>\n",
       "    .dataframe tbody tr th:only-of-type {\n",
       "        vertical-align: middle;\n",
       "    }\n",
       "\n",
       "    .dataframe tbody tr th {\n",
       "        vertical-align: top;\n",
       "    }\n",
       "\n",
       "    .dataframe thead th {\n",
       "        text-align: right;\n",
       "    }\n",
       "</style>\n",
       "<table border=\"1\" class=\"dataframe\">\n",
       "  <thead>\n",
       "    <tr style=\"text-align: right;\">\n",
       "      <th></th>\n",
       "      <th>c1</th>\n",
       "      <th>c2</th>\n",
       "      <th>c3</th>\n",
       "    </tr>\n",
       "    <tr>\n",
       "      <th>c0</th>\n",
       "      <th></th>\n",
       "      <th></th>\n",
       "      <th></th>\n",
       "    </tr>\n",
       "  </thead>\n",
       "  <tbody>\n",
       "    <tr>\n",
       "      <th>0</th>\n",
       "      <td>1</td>\n",
       "      <td>4</td>\n",
       "      <td>7</td>\n",
       "    </tr>\n",
       "    <tr>\n",
       "      <th>1</th>\n",
       "      <td>2</td>\n",
       "      <td>5</td>\n",
       "      <td>8</td>\n",
       "    </tr>\n",
       "    <tr>\n",
       "      <th>2</th>\n",
       "      <td>3</td>\n",
       "      <td>6</td>\n",
       "      <td>9</td>\n",
       "    </tr>\n",
       "  </tbody>\n",
       "</table>\n",
       "</div>"
      ],
      "text/plain": [
       "    c1  c2  c3\n",
       "c0            \n",
       "0    1   4   7\n",
       "1    2   5   8\n",
       "2    3   6   9"
      ]
     },
     "execution_count": 85,
     "metadata": {},
     "output_type": "execute_result"
    },
    {
     "data": {
      "text/html": [
       "<div>\n",
       "<style scoped>\n",
       "    .dataframe tbody tr th:only-of-type {\n",
       "        vertical-align: middle;\n",
       "    }\n",
       "\n",
       "    .dataframe tbody tr th {\n",
       "        vertical-align: top;\n",
       "    }\n",
       "\n",
       "    .dataframe thead th {\n",
       "        text-align: right;\n",
       "    }\n",
       "</style>\n",
       "<table border=\"1\" class=\"dataframe\">\n",
       "  <thead>\n",
       "    <tr style=\"text-align: right;\">\n",
       "      <th></th>\n",
       "      <th>c1</th>\n",
       "      <th>c2</th>\n",
       "      <th>c3</th>\n",
       "    </tr>\n",
       "    <tr>\n",
       "      <th>c0</th>\n",
       "      <th></th>\n",
       "      <th></th>\n",
       "      <th></th>\n",
       "    </tr>\n",
       "  </thead>\n",
       "  <tbody>\n",
       "    <tr>\n",
       "      <th>0</th>\n",
       "      <td>1</td>\n",
       "      <td>4</td>\n",
       "      <td>7</td>\n",
       "    </tr>\n",
       "    <tr>\n",
       "      <th>1</th>\n",
       "      <td>2</td>\n",
       "      <td>5</td>\n",
       "      <td>8</td>\n",
       "    </tr>\n",
       "    <tr>\n",
       "      <th>2</th>\n",
       "      <td>3</td>\n",
       "      <td>6</td>\n",
       "      <td>9</td>\n",
       "    </tr>\n",
       "  </tbody>\n",
       "</table>\n",
       "</div>"
      ],
      "text/plain": [
       "    c1  c2  c3\n",
       "c0            \n",
       "0    1   4   7\n",
       "1    2   5   8\n",
       "2    3   6   9"
      ]
     },
     "execution_count": 85,
     "metadata": {},
     "output_type": "execute_result"
    }
   ],
   "source": [
    "pd.read_csv('Data/read_csv_sample.csv',header=0,index_col=0)\n",
    "pd.read_csv('Data/read_csv_sample.csv',header=0,index_col=['c0']) # 동일하다"
   ]
  },
  {
   "cell_type": "code",
   "execution_count": 86,
   "metadata": {},
   "outputs": [
    {
     "data": {
      "text/html": [
       "<div>\n",
       "<style scoped>\n",
       "    .dataframe tbody tr th:only-of-type {\n",
       "        vertical-align: middle;\n",
       "    }\n",
       "\n",
       "    .dataframe tbody tr th {\n",
       "        vertical-align: top;\n",
       "    }\n",
       "\n",
       "    .dataframe thead th {\n",
       "        text-align: right;\n",
       "    }\n",
       "</style>\n",
       "<table border=\"1\" class=\"dataframe\">\n",
       "  <thead>\n",
       "    <tr style=\"text-align: right;\">\n",
       "      <th></th>\n",
       "      <th>1</th>\n",
       "      <th>2</th>\n",
       "      <th>5</th>\n",
       "      <th>8</th>\n",
       "    </tr>\n",
       "  </thead>\n",
       "  <tbody>\n",
       "    <tr>\n",
       "      <th>0</th>\n",
       "      <td>2</td>\n",
       "      <td>3</td>\n",
       "      <td>6</td>\n",
       "      <td>9</td>\n",
       "    </tr>\n",
       "  </tbody>\n",
       "</table>\n",
       "</div>"
      ],
      "text/plain": [
       "   1  2  5  8\n",
       "0  2  3  6  9"
      ]
     },
     "execution_count": 86,
     "metadata": {},
     "output_type": "execute_result"
    },
    {
     "data": {
      "text/html": [
       "<div>\n",
       "<style scoped>\n",
       "    .dataframe tbody tr th:only-of-type {\n",
       "        vertical-align: middle;\n",
       "    }\n",
       "\n",
       "    .dataframe tbody tr th {\n",
       "        vertical-align: top;\n",
       "    }\n",
       "\n",
       "    .dataframe thead th {\n",
       "        text-align: right;\n",
       "    }\n",
       "</style>\n",
       "<table border=\"1\" class=\"dataframe\">\n",
       "  <thead>\n",
       "    <tr style=\"text-align: right;\">\n",
       "      <th></th>\n",
       "      <th>0</th>\n",
       "      <th>1</th>\n",
       "      <th>2</th>\n",
       "      <th>3</th>\n",
       "    </tr>\n",
       "  </thead>\n",
       "  <tbody>\n",
       "    <tr>\n",
       "      <th>0</th>\n",
       "      <td>1</td>\n",
       "      <td>2</td>\n",
       "      <td>5</td>\n",
       "      <td>8</td>\n",
       "    </tr>\n",
       "    <tr>\n",
       "      <th>1</th>\n",
       "      <td>2</td>\n",
       "      <td>3</td>\n",
       "      <td>6</td>\n",
       "      <td>9</td>\n",
       "    </tr>\n",
       "  </tbody>\n",
       "</table>\n",
       "</div>"
      ],
      "text/plain": [
       "   0  1  2  3\n",
       "0  1  2  5  8\n",
       "1  2  3  6  9"
      ]
     },
     "execution_count": 86,
     "metadata": {},
     "output_type": "execute_result"
    }
   ],
   "source": [
    "# skip rows\n",
    "pd.read_csv('Data/read_csv_sample.csv',skiprows=2) # header 있다고 inferred 됬다\n",
    "pd.read_csv('Data/read_csv_sample.csv',skiprows=2,header=None)"
   ]
  },
  {
   "cell_type": "markdown",
   "id": "1bbf14bb",
   "metadata": {},
   "source": [
    "### 인코딩 문제\n",
    "- 맥에서 텍스트 편집기 엑셀에서는 알아서 인코딩 문제 없이 잘 읽어준다. 넘버스에서는 안됨\n",
    "- 파이썬에서 기본 인코딩을 utf-8로 정해져있기 때문에 인코딩 양식을 지정해주어야한다\n",
    "- euc-kr 또는 cp949로 하면 대부분 해결될거다"
   ]
  },
  {
   "cell_type": "code",
   "execution_count": 102,
   "metadata": {},
   "outputs": [
    {
     "ename": "UnicodeDecodeError",
     "evalue": "'utf-8' codec can't decode byte 0xb3 in position 0: invalid start byte",
     "output_type": "error",
     "traceback": [
      "\u001b[0;31m---------------------------------------------------------------------------\u001b[0m",
      "\u001b[0;31mUnicodeDecodeError\u001b[0m                        Traceback (most recent call last)",
      "\u001b[1;32m/Users/iganghui/판다스 백업/pandas00.ipynb 셀 39\u001b[0m in \u001b[0;36m<cell line: 3>\u001b[0;34m()\u001b[0m\n\u001b[1;32m      <a href='vscode-notebook-cell:/Users/iganghui/%ED%8C%90%EB%8B%A4%EC%8A%A4%20%EB%B0%B1%EC%97%85/pandas00.ipynb#Y120sZmlsZQ%3D%3D?line=0'>1</a>\u001b[0m file \u001b[39m=\u001b[39m \u001b[39mopen\u001b[39m(\u001b[39m'\u001b[39m\u001b[39mData/weather_20201012.csv\u001b[39m\u001b[39m'\u001b[39m)\n\u001b[1;32m      <a href='vscode-notebook-cell:/Users/iganghui/%ED%8C%90%EB%8B%A4%EC%8A%A4%20%EB%B0%B1%EC%97%85/pandas00.ipynb#Y120sZmlsZQ%3D%3D?line=1'>2</a>\u001b[0m reader \u001b[39m=\u001b[39m csv\u001b[39m.\u001b[39mreader(file)\n\u001b[0;32m----> <a href='vscode-notebook-cell:/Users/iganghui/%ED%8C%90%EB%8B%A4%EC%8A%A4%20%EB%B0%B1%EC%97%85/pandas00.ipynb#Y120sZmlsZQ%3D%3D?line=2'>3</a>\u001b[0m \u001b[39mnext\u001b[39;49m(reader)\n\u001b[1;32m      <a href='vscode-notebook-cell:/Users/iganghui/%ED%8C%90%EB%8B%A4%EC%8A%A4%20%EB%B0%B1%EC%97%85/pandas00.ipynb#Y120sZmlsZQ%3D%3D?line=3'>4</a>\u001b[0m file\u001b[39m.\u001b[39mclose()\n",
      "File \u001b[0;32m~/opt/anaconda3/lib/python3.9/codecs.py:322\u001b[0m, in \u001b[0;36mBufferedIncrementalDecoder.decode\u001b[0;34m(self, input, final)\u001b[0m\n\u001b[1;32m    319\u001b[0m \u001b[39mdef\u001b[39;00m \u001b[39mdecode\u001b[39m(\u001b[39mself\u001b[39m, \u001b[39minput\u001b[39m, final\u001b[39m=\u001b[39m\u001b[39mFalse\u001b[39;00m):\n\u001b[1;32m    320\u001b[0m     \u001b[39m# decode input (taking the buffer into account)\u001b[39;00m\n\u001b[1;32m    321\u001b[0m     data \u001b[39m=\u001b[39m \u001b[39mself\u001b[39m\u001b[39m.\u001b[39mbuffer \u001b[39m+\u001b[39m \u001b[39minput\u001b[39m\n\u001b[0;32m--> 322\u001b[0m     (result, consumed) \u001b[39m=\u001b[39m \u001b[39mself\u001b[39;49m\u001b[39m.\u001b[39;49m_buffer_decode(data, \u001b[39mself\u001b[39;49m\u001b[39m.\u001b[39;49merrors, final)\n\u001b[1;32m    323\u001b[0m     \u001b[39m# keep undecoded input until the next call\u001b[39;00m\n\u001b[1;32m    324\u001b[0m     \u001b[39mself\u001b[39m\u001b[39m.\u001b[39mbuffer \u001b[39m=\u001b[39m data[consumed:]\n",
      "\u001b[0;31mUnicodeDecodeError\u001b[0m: 'utf-8' codec can't decode byte 0xb3 in position 0: invalid start byte"
     ]
    }
   ],
   "source": [
    "file = open('Data/weather_20201012.csv')\n",
    "reader = csv.reader(file)\n",
    "next(reader)\n",
    "file.close()"
   ]
  },
  {
   "cell_type": "code",
   "execution_count": 101,
   "metadata": {},
   "outputs": [
    {
     "data": {
      "text/plain": [
       "['날짜', '지점', '평균기온(℃)', '최저기온(℃)', '최고기온(℃)']"
      ]
     },
     "execution_count": 101,
     "metadata": {},
     "output_type": "execute_result"
    }
   ],
   "source": [
    "file = open('Data/weather_20201012.csv',encoding='euc-kr')\n",
    "reader = csv.reader(file)\n",
    "next(reader)\n",
    "file.close()"
   ]
  },
  {
   "cell_type": "code",
   "execution_count": 103,
   "metadata": {},
   "outputs": [
    {
     "data": {
      "text/html": [
       "<div>\n",
       "<style scoped>\n",
       "    .dataframe tbody tr th:only-of-type {\n",
       "        vertical-align: middle;\n",
       "    }\n",
       "\n",
       "    .dataframe tbody tr th {\n",
       "        vertical-align: top;\n",
       "    }\n",
       "\n",
       "    .dataframe thead th {\n",
       "        text-align: right;\n",
       "    }\n",
       "</style>\n",
       "<table border=\"1\" class=\"dataframe\">\n",
       "  <thead>\n",
       "    <tr style=\"text-align: right;\">\n",
       "      <th></th>\n",
       "      <th>날짜</th>\n",
       "      <th>지점</th>\n",
       "      <th>평균기온(℃)</th>\n",
       "      <th>최저기온(℃)</th>\n",
       "      <th>최고기온(℃)</th>\n",
       "    </tr>\n",
       "  </thead>\n",
       "  <tbody>\n",
       "    <tr>\n",
       "      <th>0</th>\n",
       "      <td>1907-10-01</td>\n",
       "      <td>108</td>\n",
       "      <td>13.5</td>\n",
       "      <td>7.9</td>\n",
       "      <td>20.7</td>\n",
       "    </tr>\n",
       "    <tr>\n",
       "      <th>1</th>\n",
       "      <td>1907-10-02</td>\n",
       "      <td>108</td>\n",
       "      <td>16.2</td>\n",
       "      <td>7.9</td>\n",
       "      <td>22.0</td>\n",
       "    </tr>\n",
       "    <tr>\n",
       "      <th>2</th>\n",
       "      <td>1907-10-03</td>\n",
       "      <td>108</td>\n",
       "      <td>16.2</td>\n",
       "      <td>13.1</td>\n",
       "      <td>21.3</td>\n",
       "    </tr>\n",
       "    <tr>\n",
       "      <th>3</th>\n",
       "      <td>1907-10-04</td>\n",
       "      <td>108</td>\n",
       "      <td>16.5</td>\n",
       "      <td>11.2</td>\n",
       "      <td>22.0</td>\n",
       "    </tr>\n",
       "    <tr>\n",
       "      <th>4</th>\n",
       "      <td>1907-10-05</td>\n",
       "      <td>108</td>\n",
       "      <td>17.6</td>\n",
       "      <td>10.9</td>\n",
       "      <td>25.4</td>\n",
       "    </tr>\n",
       "    <tr>\n",
       "      <th>...</th>\n",
       "      <td>...</td>\n",
       "      <td>...</td>\n",
       "      <td>...</td>\n",
       "      <td>...</td>\n",
       "      <td>...</td>\n",
       "    </tr>\n",
       "    <tr>\n",
       "      <th>40849</th>\n",
       "      <td>2020-10-07</td>\n",
       "      <td>108</td>\n",
       "      <td>16.0</td>\n",
       "      <td>9.9</td>\n",
       "      <td>22.0</td>\n",
       "    </tr>\n",
       "    <tr>\n",
       "      <th>40850</th>\n",
       "      <td>2020-10-08</td>\n",
       "      <td>108</td>\n",
       "      <td>17.2</td>\n",
       "      <td>12.1</td>\n",
       "      <td>23.1</td>\n",
       "    </tr>\n",
       "    <tr>\n",
       "      <th>40851</th>\n",
       "      <td>2020-10-09</td>\n",
       "      <td>108</td>\n",
       "      <td>17.2</td>\n",
       "      <td>12.4</td>\n",
       "      <td>23.3</td>\n",
       "    </tr>\n",
       "    <tr>\n",
       "      <th>40852</th>\n",
       "      <td>2020-10-10</td>\n",
       "      <td>108</td>\n",
       "      <td>16.9</td>\n",
       "      <td>12.3</td>\n",
       "      <td>21.5</td>\n",
       "    </tr>\n",
       "    <tr>\n",
       "      <th>40853</th>\n",
       "      <td>2020-10-11</td>\n",
       "      <td>108</td>\n",
       "      <td>16.9</td>\n",
       "      <td>12.7</td>\n",
       "      <td>20.8</td>\n",
       "    </tr>\n",
       "  </tbody>\n",
       "</table>\n",
       "<p>40854 rows × 5 columns</p>\n",
       "</div>"
      ],
      "text/plain": [
       "               날짜   지점  평균기온(℃)  최저기온(℃)  최고기온(℃)\n",
       "0      1907-10-01  108     13.5      7.9     20.7\n",
       "1      1907-10-02  108     16.2      7.9     22.0\n",
       "2      1907-10-03  108     16.2     13.1     21.3\n",
       "3      1907-10-04  108     16.5     11.2     22.0\n",
       "4      1907-10-05  108     17.6     10.9     25.4\n",
       "...           ...  ...      ...      ...      ...\n",
       "40849  2020-10-07  108     16.0      9.9     22.0\n",
       "40850  2020-10-08  108     17.2     12.1     23.1\n",
       "40851  2020-10-09  108     17.2     12.4     23.3\n",
       "40852  2020-10-10  108     16.9     12.3     21.5\n",
       "40853  2020-10-11  108     16.9     12.7     20.8\n",
       "\n",
       "[40854 rows x 5 columns]"
      ]
     },
     "execution_count": 103,
     "metadata": {},
     "output_type": "execute_result"
    }
   ],
   "source": [
    "pd.read_csv('Data/weather_20201012.csv',encoding='euc-kr')"
   ]
  },
  {
   "attachments": {},
   "cell_type": "markdown",
   "id": "3d44df5b",
   "metadata": {},
   "source": [
    "### 📎datetime\n",
    "- 파이썬에서 날짜 쉽게 사용하도록 도와주는 module 이다\n",
    "\n",
    "- 형식들은 여기 참고하자 https://pynative.com/python-datetime-format-strftime/"
   ]
  },
  {
   "cell_type": "code",
   "execution_count": 105,
   "metadata": {},
   "outputs": [
    {
     "name": "stdout",
     "output_type": "stream",
     "text": [
      "2022-12-16\n",
      "<class 'datetime.date'>\n",
      "2022 12 16\n",
      "2022-12-16 19:09:40.566585\n",
      "<class 'datetime.datetime'>\n",
      "2022 12 16\n",
      "19 9 40\n"
     ]
    }
   ],
   "source": [
    "from datetime import date,datetime,timedelta       # date datetime timedelta 클래스다 \n",
    " \n",
    "print(date.today())\n",
    "print(type(date.today()))    # datetime.date 객체이다\n",
    "\n",
    "# year month day따로 추출 가능하다\n",
    "print(date.today().year,date.today().month,date.today().day)\n",
    "\n",
    "print(datetime.today())\n",
    "print(type(datetime.today())) # datetime.datetime 객체이다\n",
    "\n",
    "# 추가적으로 시분초 까지 나타낼수 있다\n",
    "print(datetime.today().year,datetime.today().month,datetime.today().day)\n",
    "print(datetime.today().hour,datetime.today().minute,datetime.today().second)"
   ]
  },
  {
   "cell_type": "code",
   "execution_count": 106,
   "metadata": {},
   "outputs": [
    {
     "name": "stdout",
     "output_type": "stream",
     "text": [
      "2022-12-16\n",
      "2022년 12월 16일\n",
      "2021-07-25 22:13:20\n"
     ]
    }
   ],
   "source": [
    "# stftime\n",
    "# string formatting\n",
    "# datetime 객체에서 내가 원하는 str추출\n",
    "today = datetime.today() \n",
    "print(today.strftime('%Y-%m-%d'))     # 이형식으로 string으로 뽑아 내겠다는거다\n",
    "print(today.strftime('%Y년 %m월 %d일')) # 이럴때 유용하겠지\n",
    "\n",
    "# strptime\n",
    "# string parse time\n",
    "# string을 datetime 객체로 pase\n",
    "\n",
    "datetime_kor ='2021년 7월 25일 22시 13분 20초' \n",
    "print(datetime.strptime(datetime_kor,'%Y년 %m월 %d일 %H시 %M분 %S초')) # datetime.datetime의 형식으로 출력된다"
   ]
  },
  {
   "attachments": {},
   "cell_type": "markdown",
   "id": "ef201a5f",
   "metadata": {},
   "source": [
    "#### ⭐️시간 계산하기\n",
    "- datetime 에서 datetime 계산도 가능하다\n",
    "\n",
    "- 기본적으로는 timedelta 객체를 사용   : H M S 가 최대\n",
    "- 추가적으로 relativedelta 객체를 사용 : Y M D H M S 다 가능\n",
    "- 중요한건 둘다 계산을 해도 타입은 그대로 datetime.datetime 혹은 datetime.date로 유지된다"
   ]
  },
  {
   "cell_type": "code",
   "execution_count": null,
   "metadata": {},
   "outputs": [],
   "source": [
    "from datetime import date,datetime,timedelta\n",
    "from dateutil.relativedelta import relativedelta\n",
    "datetime_kor ='2021년 7월 25일 22시 13분 20초' \n",
    "datetime_lon ='2021년 7월 23일 3시 10분 3초' \n",
    "datetime_kor  = datetime.strptime(datetime_kor,'%Y년 %m월 %d일 %H시 %M분 %S초')\n",
    "datetime_lon = datetime.strptime(datetime_lon,'%Y년 %m월 %d일 %H시 %M분 %S초')\n",
    "diff = datetime_kor - datetime_lon\n",
    "diff # time detal 객체가 된다\n",
    "\n",
    "type(diff)\n",
    "str(diff) # => 내가 원하는 걸로 돌려주네"
   ]
  },
  {
   "cell_type": "code",
   "execution_count": 104,
   "metadata": {},
   "outputs": [
    {
     "name": "stdout",
     "output_type": "stream",
     "text": [
      "2022-12-16 21:09:06.267831\n",
      "<class 'datetime.datetime'>\n",
      "<class 'dateutil.relativedelta.relativedelta'>\n",
      "2022-12-16 19:11:06.267831\n",
      "2022-12-18 19:09:06.267831\n",
      "<class 'datetime.datetime'>\n"
     ]
    }
   ],
   "source": [
    "from datetime import date,datetime,timedelta\n",
    "from dateutil.relativedelta import relativedelta\n",
    "\n",
    "days = datetime.today()\n",
    "\n",
    "# time delta 는 H M S 까지 밖에 안됨\n",
    "print(days+timedelta(hours=2))       # s안붙이면 안된다\n",
    "print(type(days+timedelta(hours=2)))\n",
    "\n",
    "# relativedelta\n",
    "print(type(relativedelta(days=2)))\n",
    "print(days+relativedelta(minutes=2))\n",
    "print(days+relativedelta(days=2))\n",
    "print(type(days+relativedelta(days=2))) # 타입은 그대로"
   ]
  }
 ],
 "metadata": {
  "kernelspec": {
   "display_name": "base",
   "language": "python",
   "name": "python3"
  },
  "language_info": {
   "codemirror_mode": {
    "name": "ipython",
    "version": 3
   },
   "file_extension": ".py",
   "mimetype": "text/x-python",
   "name": "python",
   "nbconvert_exporter": "python",
   "pygments_lexer": "ipython3",
   "version": "3.9.13"
  },
  "orig_nbformat": 4,
  "vscode": {
   "interpreter": {
    "hash": "45b8c1915d7feb89c149ee30337b77f6d47952f40768a54bba266400bbcc3639"
   }
  }
 },
 "nbformat": 4,
 "nbformat_minor": 2
}
