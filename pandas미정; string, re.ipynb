{
 "cells": [
  {
   "cell_type": "code",
   "execution_count": 4,
   "metadata": {},
   "outputs": [],
   "source": [
    "from IPython.core.interactiveshell import InteractiveShell\n",
    "InteractiveShell.ast_node_interactivity = \"all\""
   ]
  },
  {
   "attachments": {},
   "cell_type": "markdown",
   "metadata": {},
   "source": [
    "## 문자열\n",
    "\n",
    "> \\<INTRO>  \\\n",
    "> 파이썬 자체가 문자열 데이터를 처리하고 가공하기가 비교적 쉽다. \\\n",
    "> Numpy에서는 문자열 접근하려면 루프 구문이 필요하다 => 주로 pandas에서 벡터화된 문자열 처리에 특화되있다\\\n",
    "> pandas는 문자열을 담고 있는 Series 혹은 Index 객체의 str 속성을 통해 벡터화된 문자열 연산 수행 가능하다\n",
    ">"
   ]
  },
  {
   "attachments": {},
   "cell_type": "markdown",
   "metadata": {},
   "source": [
    "### 1.파이썬 string\n",
    "\n",
    "<par>우선적으로 파이썬 내장 객체인 문자열에 대해 살펴보고 나아가 re 패키지를 통해 정규표현식을 살펴보자.\\\n",
    "이 기능들은 pandas에서 벡터화된 문자열을 처리하는 기능들과 거의 동일하기 때문이다 \n",
    "\n",
    "- `string` class in python\n",
    "- `re` module"
   ]
  },
  {
   "attachments": {},
   "cell_type": "markdown",
   "metadata": {},
   "source": [
    "#### 문자열 연산\n",
    "- 파이썬에서는 문자열을 곱하거나 더할 수 있다"
   ]
  },
  {
   "cell_type": "code",
   "execution_count": 1,
   "metadata": {},
   "outputs": [
    {
     "data": {
      "text/plain": [
       "'hello my name is'"
      ]
     },
     "execution_count": 1,
     "metadata": {},
     "output_type": "execute_result"
    }
   ],
   "source": [
    "a = 'hello'\n",
    "a + ' my name is'"
   ]
  },
  {
   "cell_type": "code",
   "execution_count": 5,
   "metadata": {},
   "outputs": [
    {
     "data": {
      "text/plain": [
       "'hellohellohello'"
      ]
     },
     "execution_count": 5,
     "metadata": {},
     "output_type": "execute_result"
    },
    {
     "name": "stdout",
     "output_type": "stream",
     "text": [
      "==================================================\n"
     ]
    }
   ],
   "source": [
    "a = 'hello'\n",
    "a*3 # 반복한다\n",
    "\n",
    "print('='*50)"
   ]
  },
  {
   "attachments": {},
   "cell_type": "markdown",
   "metadata": {},
   "source": [
    "#### 문자열 길이"
   ]
  },
  {
   "cell_type": "code",
   "execution_count": 7,
   "metadata": {},
   "outputs": [
    {
     "data": {
      "text/plain": [
       "5"
      ]
     },
     "execution_count": 7,
     "metadata": {},
     "output_type": "execute_result"
    },
    {
     "data": {
      "text/plain": [
       "8"
      ]
     },
     "execution_count": 7,
     "metadata": {},
     "output_type": "execute_result"
    }
   ],
   "source": [
    "len('hello')\n",
    "len('hello   ') # 공백도 문자열이다"
   ]
  },
  {
   "cell_type": "markdown",
   "metadata": {},
   "source": [
    "#### 문자열 indexing, slicing"
   ]
  },
  {
   "cell_type": "code",
   "execution_count": 8,
   "metadata": {},
   "outputs": [
    {
     "data": {
      "text/plain": [
       "'H'"
      ]
     },
     "execution_count": 8,
     "metadata": {},
     "output_type": "execute_result"
    },
    {
     "data": {
      "text/plain": [
       "'e'"
      ]
     },
     "execution_count": 8,
     "metadata": {},
     "output_type": "execute_result"
    }
   ],
   "source": [
    "a = 'Hi my name is kanghee'\n",
    "a[0]\n",
    "a[-1]"
   ]
  },
  {
   "cell_type": "code",
   "execution_count": 9,
   "metadata": {},
   "outputs": [
    {
     "data": {
      "text/plain": [
       "'Hi my name'"
      ]
     },
     "execution_count": 9,
     "metadata": {},
     "output_type": "execute_result"
    }
   ],
   "source": [
    "a = 'Hi my name is kanghee'\n",
    "a[0:10]"
   ]
  },
  {
   "attachments": {},
   "cell_type": "markdown",
   "metadata": {},
   "source": [
    "#### 문자열 formatting\n",
    "- 여러가지 방법이 존재한다.\n",
    "- f 문자열 포매팅만 알아도 충분하다"
   ]
  },
  {
   "cell_type": "code",
   "execution_count": 11,
   "metadata": {},
   "outputs": [
    {
     "data": {
      "text/plain": [
       "'The price is 10.2232423'"
      ]
     },
     "execution_count": 11,
     "metadata": {},
     "output_type": "execute_result"
    }
   ],
   "source": [
    "# 기본 사용 방법\n",
    "d = 10.2232423\n",
    "f'The price is {d}'"
   ]
  },
  {
   "cell_type": "code",
   "execution_count": 12,
   "metadata": {},
   "outputs": [
    {
     "data": {
      "text/plain": [
       "'The price is 10.2232423 and your exchane is 2.2323'"
      ]
     },
     "execution_count": 12,
     "metadata": {},
     "output_type": "execute_result"
    }
   ],
   "source": [
    "p = 10.2232423\n",
    "e = 2.2323\n",
    "f'The price is {d} and your exchane is {e}'"
   ]
  },
  {
   "cell_type": "code",
   "execution_count": 15,
   "metadata": {},
   "outputs": [
    {
     "data": {
      "text/plain": [
       "'The price is 110.2232423'"
      ]
     },
     "execution_count": 15,
     "metadata": {},
     "output_type": "execute_result"
    },
    {
     "data": {
      "text/plain": [
       "'The price is 10001'"
      ]
     },
     "execution_count": 15,
     "metadata": {},
     "output_type": "execute_result"
    }
   ],
   "source": [
    "# {}안에서는 파이썬 문법 사용할수 있다\n",
    "d = 10.2232423\n",
    "f'The price is {d+100}'\n",
    "\n",
    "prices = [1,2,3,4,5]\n",
    "f'The price is {prices[0]+10000}'"
   ]
  },
  {
   "cell_type": "code",
   "execution_count": 18,
   "metadata": {},
   "outputs": [
    {
     "data": {
      "text/plain": [
       "'hi        '"
      ]
     },
     "execution_count": 18,
     "metadata": {},
     "output_type": "execute_result"
    }
   ],
   "source": [
    "# 자릿수\n",
    "# :자릿수 로 표현한다\n",
    "f'{\"hi\":10}'"
   ]
  },
  {
   "cell_type": "code",
   "execution_count": 25,
   "metadata": {},
   "outputs": [
    {
     "data": {
      "text/plain": [
       "'hi'"
      ]
     },
     "execution_count": 25,
     "metadata": {},
     "output_type": "execute_result"
    }
   ],
   "source": [
    "# 근데 상식적으로 len('hi')가 2인데\n",
    "# 자릿수 1 을 주면 무시한다\n",
    "f'{\"hi\":1}'"
   ]
  },
  {
   "cell_type": "code",
   "execution_count": 24,
   "metadata": {},
   "outputs": [
    {
     "data": {
      "text/plain": [
       "'The price is           10.2232423'"
      ]
     },
     "execution_count": 24,
     "metadata": {},
     "output_type": "execute_result"
    }
   ],
   "source": [
    "# 숫자 자릿수\n",
    "d = 10.2232423\n",
    "f'The price is {d:20}'"
   ]
  },
  {
   "cell_type": "code",
   "execution_count": 27,
   "metadata": {},
   "outputs": [
    {
     "data": {
      "text/plain": [
       "'The price is 10.2232'"
      ]
     },
     "execution_count": 27,
     "metadata": {},
     "output_type": "execute_result"
    },
    {
     "data": {
      "text/plain": [
       "'The price is              10.2232'"
      ]
     },
     "execution_count": 27,
     "metadata": {},
     "output_type": "execute_result"
    }
   ],
   "source": [
    "# 소숫점 자릿수\n",
    "# {:0.nf} 소숫점 n자릿수 까지 표현\n",
    "d = 10.2232423\n",
    "f'The price is {d:0.4f}'\n",
    "\n",
    "# 문자열 자릿수 + 소숫점 자리수\n",
    "# 자릿수 총 20으로 맞추되 소숫점은 4자리 까지\n",
    "f'The price is {d:20.4f}'"
   ]
  },
  {
   "cell_type": "code",
   "execution_count": 16,
   "metadata": {},
   "outputs": [
    {
     "data": {
      "text/plain": [
       "'hi        '"
      ]
     },
     "execution_count": 16,
     "metadata": {},
     "output_type": "execute_result"
    },
    {
     "data": {
      "text/plain": [
       "'        hi'"
      ]
     },
     "execution_count": 16,
     "metadata": {},
     "output_type": "execute_result"
    },
    {
     "data": {
      "text/plain": [
       "'    hi    '"
      ]
     },
     "execution_count": 16,
     "metadata": {},
     "output_type": "execute_result"
    }
   ],
   "source": [
    "# 정렬\n",
    "f'{\"hi\":<10}'  # 왼쪽 정렬\n",
    "\n",
    "f'{\"hi\":>10}'  # 오른쪽 정렬\n",
    "\n",
    "f'{\"hi\":^10}'  # 가운데 정렬\n"
   ]
  },
  {
   "cell_type": "markdown",
   "metadata": {},
   "source": [
    "#### 문자열 관련 함수들"
   ]
  },
  {
   "cell_type": "code",
   "execution_count": 31,
   "metadata": {},
   "outputs": [
    {
     "data": {
      "text/plain": [
       "4"
      ]
     },
     "execution_count": 31,
     "metadata": {},
     "output_type": "execute_result"
    },
    {
     "data": {
      "text/plain": [
       "1"
      ]
     },
     "execution_count": 31,
     "metadata": {},
     "output_type": "execute_result"
    }
   ],
   "source": [
    "# 문자 갯수 세기 => count\n",
    "a = 'hi hello happy horse'\n",
    "a.count('h')\n",
    "a.count('ll') # ll이 하나의 문자열인거다"
   ]
  },
  {
   "cell_type": "code",
   "execution_count": 35,
   "metadata": {},
   "outputs": [
    {
     "data": {
      "text/plain": [
       "0"
      ]
     },
     "execution_count": 35,
     "metadata": {},
     "output_type": "execute_result"
    },
    {
     "data": {
      "text/plain": [
       "5"
      ]
     },
     "execution_count": 35,
     "metadata": {},
     "output_type": "execute_result"
    },
    {
     "data": {
      "text/plain": [
       "-1"
      ]
     },
     "execution_count": 35,
     "metadata": {},
     "output_type": "execute_result"
    }
   ],
   "source": [
    "# 위치 알려주기 1 => find\n",
    "# 문자열 길이가 1보다 클때는 시작 위치를 알려주는 거겠지\n",
    "# 문자열 중 문자 b가 처음으로 나온 위치를 반환한다. 만약 찾는 문자나 문자열이 존재하지 않는다면 -1을 반환한다.\n",
    "a = 'hi hello happy horse'\n",
    "a.find('h')\n",
    "a.find('ll')\n",
    "a.find('ㅁ')"
   ]
  },
  {
   "cell_type": "code",
   "execution_count": 39,
   "metadata": {},
   "outputs": [
    {
     "data": {
      "text/plain": [
       "0"
      ]
     },
     "execution_count": 39,
     "metadata": {},
     "output_type": "execute_result"
    },
    {
     "data": {
      "text/plain": [
       "5"
      ]
     },
     "execution_count": 39,
     "metadata": {},
     "output_type": "execute_result"
    },
    {
     "ename": "ValueError",
     "evalue": "substring not found",
     "output_type": "error",
     "traceback": [
      "\u001b[0;31m---------------------------------------------------------------------------\u001b[0m",
      "\u001b[0;31mValueError\u001b[0m                                Traceback (most recent call last)",
      "\u001b[1;32m/Users/iganghui/TIL/Python/Python_data_science/pandas000.ipynb 셀 25\u001b[0m in \u001b[0;36m<cell line: 5>\u001b[0;34m()\u001b[0m\n\u001b[1;32m      <a href='vscode-notebook-cell:/Users/iganghui/TIL/Python/Python_data_science/pandas000.ipynb#X44sZmlsZQ%3D%3D?line=2'>3</a>\u001b[0m a\u001b[39m.\u001b[39mindex(\u001b[39m'\u001b[39m\u001b[39mh\u001b[39m\u001b[39m'\u001b[39m)\n\u001b[1;32m      <a href='vscode-notebook-cell:/Users/iganghui/TIL/Python/Python_data_science/pandas000.ipynb#X44sZmlsZQ%3D%3D?line=3'>4</a>\u001b[0m a\u001b[39m.\u001b[39mindex(\u001b[39m'\u001b[39m\u001b[39mll\u001b[39m\u001b[39m'\u001b[39m)\n\u001b[0;32m----> <a href='vscode-notebook-cell:/Users/iganghui/TIL/Python/Python_data_science/pandas000.ipynb#X44sZmlsZQ%3D%3D?line=4'>5</a>\u001b[0m a\u001b[39m.\u001b[39;49mindex(\u001b[39m'\u001b[39;49m\u001b[39mㅁ\u001b[39;49m\u001b[39m'\u001b[39;49m)\n",
      "\u001b[0;31mValueError\u001b[0m: substring not found"
     ]
    }
   ],
   "source": [
    "# 위치 알려주기 2 => index\n",
    "# index 함수는 문자열 존재하지 않으면 에러난다\n",
    "a = 'hi hello happy horse'\n",
    "a.index('h')\n",
    "a.index('ll')\n",
    "a.index('ㅁ')"
   ]
  },
  {
   "cell_type": "code",
   "execution_count": 41,
   "metadata": {},
   "outputs": [
    {
     "data": {
      "text/plain": [
       "'HI HELLO HAPPY HORSE'"
      ]
     },
     "execution_count": 41,
     "metadata": {},
     "output_type": "execute_result"
    },
    {
     "data": {
      "text/plain": [
       "'hi hello happy horse'"
      ]
     },
     "execution_count": 41,
     "metadata": {},
     "output_type": "execute_result"
    }
   ],
   "source": [
    "# upper lower\n",
    "a = 'hi hello happy horse'\n",
    "a.upper()\n",
    "a.upper().lower()"
   ]
  },
  {
   "cell_type": "code",
   "execution_count": 44,
   "metadata": {},
   "outputs": [
    {
     "data": {
      "text/plain": [
       "'     hi hello happy horse'"
      ]
     },
     "execution_count": 44,
     "metadata": {},
     "output_type": "execute_result"
    },
    {
     "data": {
      "text/plain": [
       "'hi hello happy horse     '"
      ]
     },
     "execution_count": 44,
     "metadata": {},
     "output_type": "execute_result"
    },
    {
     "data": {
      "text/plain": [
       "'hi hello happy horse'"
      ]
     },
     "execution_count": 44,
     "metadata": {},
     "output_type": "execute_result"
    }
   ],
   "source": [
    "# rstip lstip strip\n",
    "a = '     hi hello happy horse     '\n",
    "a.rstrip()\n",
    "a.lstrip()\n",
    "a.strip()"
   ]
  },
  {
   "cell_type": "code",
   "execution_count": 46,
   "metadata": {},
   "outputs": [
    {
     "data": {
      "text/plain": [
       "'     Hi Hello Happy Horse     '"
      ]
     },
     "execution_count": 46,
     "metadata": {},
     "output_type": "execute_result"
    },
    {
     "data": {
      "text/plain": [
       "'hihellohappyhorse'"
      ]
     },
     "execution_count": 46,
     "metadata": {},
     "output_type": "execute_result"
    }
   ],
   "source": [
    "# 문자열 바꾸기 -> replace\n",
    "# 싹 다 바꾼다\n",
    "a = '     hi hello happy horse     '\n",
    "a.replace('h','H')\n",
    "\n",
    "a.replace(' ','') # 공백 다 지워버리기"
   ]
  },
  {
   "cell_type": "code",
   "execution_count": 51,
   "metadata": {},
   "outputs": [
    {
     "data": {
      "text/plain": [
       "'a,b,c,d'"
      ]
     },
     "execution_count": 51,
     "metadata": {},
     "output_type": "execute_result"
    },
    {
     "data": {
      "text/plain": [
       "'a,b,c,d'"
      ]
     },
     "execution_count": 51,
     "metadata": {},
     "output_type": "execute_result"
    },
    {
     "data": {
      "text/plain": [
       "'a,b,c,d'"
      ]
     },
     "execution_count": 51,
     "metadata": {},
     "output_type": "execute_result"
    }
   ],
   "source": [
    "# 문자열 생성 -> join\n",
    "# unpack해서 구분자로 합친다\n",
    "','.join('abcd')\n",
    "','.join(['a','b','c','d'])\n",
    "','.join(('a','b','c','d'))"
   ]
  },
  {
   "cell_type": "code",
   "execution_count": 53,
   "metadata": {},
   "outputs": [
    {
     "data": {
      "text/plain": [
       "['a', 'b', 'c', 'd']"
      ]
     },
     "execution_count": 53,
     "metadata": {},
     "output_type": "execute_result"
    },
    {
     "data": {
      "text/plain": [
       "['a', 'b', 'c', 'd']"
      ]
     },
     "execution_count": 53,
     "metadata": {},
     "output_type": "execute_result"
    }
   ],
   "source": [
    "# 문자열 나누기 -> split\n",
    "# 구분자로 나누어 리스트로 반환하낟\n",
    "'a,b,c,d'.split(',')\n",
    "\n",
    "'a b c d'.split(' ')"
   ]
  },
  {
   "attachments": {},
   "cell_type": "markdown",
   "metadata": {},
   "source": [
    "### 2.re 모율\n",
    "**정규 표현식을 위한 파이썬 내장 모듈이다**\n",
    "\n",
    "조금 후의 볼 판다스 정규표현식 메서드는 대부분이 re모듈을 계승한다\n",
    "\n",
    "- match()\t문자열의 처음부터 정규식과 매치되는지 조사한다.\n",
    "- search()\t문자열 전체를 검색하여 정규식과 매치되는지 조사한다.\n",
    "- findall()\t정규식과 매치되는 모든 문자열(substring)을 리스트로 돌려준다.\n",
    "- finditer()\t정규식과 매치되는 모든 문자열(substring)을 반복 가능한 객체로 돌려준다."
   ]
  },
  {
   "cell_type": "code",
   "execution_count": 56,
   "metadata": {},
   "outputs": [],
   "source": [
    "import re"
   ]
  },
  {
   "attachments": {},
   "cell_type": "markdown",
   "id": "e3dc0c4e",
   "metadata": {},
   "source": [
    "##### 메타문자\n",
    "> 메타 문자란 원래 그 문자가 가진 뜻이 아닌 특별한 용도로 사용하는 문자를 말한다.\n",
    "- [ ]: 괄호 사이의 문자들과 매치\n",
    "- -(하이픈): [from -  to]\n",
    "\n",
    "\n",
    "- \\d: 숫자[0-9]\n",
    "- \\D: 숫자가 아닌것을 의미[^0-9]\n",
    "- \\s: 공백[\\n\\t\\r\\v]\n",
    "- \\S: 공백이 아닌것[^\\n\\t\\r\\v]\n",
    "- \\w: 문자+숫자+_ [a-zA-Z0-9_]\n",
    "- \\W: 문자+숫자+_ 아닌것 [^a-zA-Z0-9_]\n",
    "- . : 개행문자(\\n)를 제외한 모든 문자\n",
    "    \n",
    "\n",
    "- ^: 시작문자를 매치        ex) ^a\n",
    "- \\\\$: 문자열의 끝과 매치     ex) \\\\$a\n",
    "\n",
    "\n",
    "- \\* : 반복(0-무한대)\n",
    "- \\+ : 반복(1-무한대)\n",
    "- ? : 있어도 되고 없어도 된다.(0 or 1)\n",
    "- {cnt} : cnt만큼 반복        ex) {x,y}: x~y번 반복"
   ]
  },
  {
   "attachments": {},
   "cell_type": "markdown",
   "metadata": {},
   "source": [
    "> 처음 메타 문자를 봤을때 가장 헷갈리는게 [], 문자 클래스를 의미한다\\\n",
    "> [], 문자 클래스에는 어떠한 문자도 들어갈수 있고 여러개의 문자가 들어간다면 여러개의 문자 중 한개와의 match를 의마한다\\\n",
    "> -,하이픈 을 사용해 문자클래스 안에 범위를 사용해서 표현 가능하다 [a-zA-Z] : 대소문자 포함한 모든 알파벳"
   ]
  },
  {
   "attachments": {},
   "cell_type": "markdown",
   "id": "7479af0c",
   "metadata": {},
   "source": [
    "#### match search\n",
    "- match: 문자열의 처음부터 정규표현식과 매치되는지 조사한다 \n",
    "- search: 문자열 전체를 검색하여 정규표현식과 매치되는지 조사한다\n",
    "- => 없을땐 둘다 **NONE**이다\n",
    "\n",
    "\n",
    "**<주의>**\\\n",
    "match, search 둘다 반환 타입이 match 인걸 기억하자"
   ]
  },
  {
   "cell_type": "code",
   "execution_count": 60,
   "metadata": {},
   "outputs": [
    {
     "data": {
      "text/plain": [
       "<re.Match object; span=(0, 1), match='3'>"
      ]
     },
     "execution_count": 60,
     "metadata": {},
     "output_type": "execute_result"
    },
    {
     "data": {
      "text/plain": [
       "<re.Match object; span=(0, 2), match='33'>"
      ]
     },
     "execution_count": 60,
     "metadata": {},
     "output_type": "execute_result"
    }
   ],
   "source": [
    "# re.match() => 신기한건 문자열이 처음부터 정규식에 나타나는지\n",
    "# re.search('^[a-zA-Z]','33asc') 동일한 코드다\n",
    "\n",
    "# 문자열이 알파벳으로 시작하냐?\n",
    "re.match('[a-zA-Z]','33asdf') # 문자열로 시작하지 않기 때문에 지금 이건 반환값이 None이다\n",
    "\n",
    "# 숫자로 시작하냐?\n",
    "re.match('\\d','33asdf')\n",
    "\n",
    "# 하나 이상의 숫자로 시작하냐?\n",
    "re.match('\\d+','33asdf') "
   ]
  },
  {
   "cell_type": "code",
   "execution_count": 64,
   "metadata": {},
   "outputs": [
    {
     "data": {
      "text/plain": [
       "<re.Match object; span=(2, 3), match='a'>"
      ]
     },
     "execution_count": 64,
     "metadata": {},
     "output_type": "execute_result"
    },
    {
     "data": {
      "text/plain": [
       "<re.Match object; span=(0, 1), match='3'>"
      ]
     },
     "execution_count": 64,
     "metadata": {},
     "output_type": "execute_result"
    }
   ],
   "source": [
    "# 문자열 있냐?\n",
    "re.search('[a-zA-Z]','33asdf') \n",
    "\n",
    "# 숫자 있냐?\n",
    "re.search('[0-9]','33asdf') "
   ]
  },
  {
   "cell_type": "code",
   "execution_count": 69,
   "metadata": {},
   "outputs": [
    {
     "name": "stdout",
     "output_type": "stream",
     "text": [
      "None\n",
      "<re.Match object; span=(0, 3), match='a.b'>\n",
      "<re.Match object; span=(0, 3), match='acb'>\n"
     ]
    }
   ],
   "source": [
    "# . vs [.]\n",
    "# .은 \\n 제외한 모든 문자 가능하다\n",
    "# [.] 점을 의미한다\n",
    "print(re.search('a[.]b','acb'))\n",
    "print(re.search('a[.]b','a.b'))\n",
    "print(re.search('a.b','acb'))"
   ]
  },
  {
   "cell_type": "markdown",
   "id": "da6d5e4a",
   "metadata": {},
   "source": [
    "#### 시작과 끝"
   ]
  },
  {
   "cell_type": "code",
   "execution_count": 104,
   "metadata": {},
   "outputs": [
    {
     "name": "stdout",
     "output_type": "stream",
     "text": [
      "None\n",
      "<re.Match object; span=(0, 5), match='aaaaa'>\n"
     ]
    }
   ],
   "source": [
    "# 영문자로 시작하니?\n",
    "print(re.search('^[a-zA-Z]+','33aa'))\n",
    "print(re.search('^[a-zA-Z]+','aaaaa111')) # 반환 타입은  패터에 해당하는 부분만 반환한다"
   ]
  },
  {
   "cell_type": "code",
   "execution_count": 107,
   "metadata": {},
   "outputs": [
    {
     "name": "stdout",
     "output_type": "stream",
     "text": [
      "<re.Match object; span=(0, 11), match='I like you!'>\n",
      "None\n"
     ]
    }
   ],
   "source": [
    "# 패턴이 완전히 일치하는지 검사\n",
    "# .를 통해 공백까지도 생각\n",
    "# ^[a-zA-Z].*!$ => 영문으로 시작 중간에 문자+공백 있고 끝날때 ! 끝난다\n",
    "print(re.search('^[a-zA-Z].*!$','I like you!')) \n",
    "\n",
    "print(re.search('^[a-zA-Z].*!$','I like you'))"
   ]
  },
  {
   "attachments": {},
   "cell_type": "markdown",
   "metadata": {},
   "source": [
    "#### 반복\n",
    "- 우선 re.match 를 기준으로 살펴보자"
   ]
  },
  {
   "cell_type": "code",
   "execution_count": 73,
   "metadata": {},
   "outputs": [
    {
     "data": {
      "text/plain": [
       "<re.Match object; span=(0, 1), match='c'>"
      ]
     },
     "execution_count": 73,
     "metadata": {},
     "output_type": "execute_result"
    },
    {
     "data": {
      "text/plain": [
       "<re.Match object; span=(0, 2), match='ca'>"
      ]
     },
     "execution_count": 73,
     "metadata": {},
     "output_type": "execute_result"
    },
    {
     "data": {
      "text/plain": [
       "<re.Match object; span=(0, 5), match='caaaa'>"
      ]
     },
     "execution_count": 73,
     "metadata": {},
     "output_type": "execute_result"
    }
   ],
   "source": [
    "# *: 0번이상 반복\n",
    "re.match('ca*','c')\n",
    "re.match('ca*','cab')\n",
    "re.match('ca*','caaaab')"
   ]
  },
  {
   "cell_type": "code",
   "execution_count": 74,
   "metadata": {},
   "outputs": [
    {
     "data": {
      "text/plain": [
       "<re.Match object; span=(0, 2), match='ca'>"
      ]
     },
     "execution_count": 74,
     "metadata": {},
     "output_type": "execute_result"
    },
    {
     "data": {
      "text/plain": [
       "<re.Match object; span=(0, 5), match='caaaa'>"
      ]
     },
     "execution_count": 74,
     "metadata": {},
     "output_type": "execute_result"
    }
   ],
   "source": [
    "# +: 1번이상 반복\n",
    "re.match('ca+','c') # None이다\n",
    "re.match('ca+','cab')\n",
    "re.match('ca+','caaaab')"
   ]
  },
  {
   "cell_type": "code",
   "execution_count": 77,
   "metadata": {},
   "outputs": [
    {
     "data": {
      "text/plain": [
       "<re.Match object; span=(0, 1), match='c'>"
      ]
     },
     "execution_count": 77,
     "metadata": {},
     "output_type": "execute_result"
    },
    {
     "data": {
      "text/plain": [
       "<re.Match object; span=(0, 2), match='ca'>"
      ]
     },
     "execution_count": 77,
     "metadata": {},
     "output_type": "execute_result"
    },
    {
     "data": {
      "text/plain": [
       "<re.Match object; span=(0, 5), match='caaaa'>"
      ]
     },
     "execution_count": 77,
     "metadata": {},
     "output_type": "execute_result"
    }
   ],
   "source": [
    "# ?: 있거나 말거나\n",
    "re.match('ca?','c') # None이다\n",
    "re.match('c(a+)?','cab')\n",
    "re.match('c(a+)?','caaaab')"
   ]
  },
  {
   "cell_type": "code",
   "execution_count": 95,
   "metadata": {},
   "outputs": [
    {
     "data": {
      "text/plain": [
       "<re.Match object; span=(0, 2), match='ca'>"
      ]
     },
     "execution_count": 95,
     "metadata": {},
     "output_type": "execute_result"
    },
    {
     "data": {
      "text/plain": [
       "<re.Match object; span=(0, 2), match='ca'>"
      ]
     },
     "execution_count": 95,
     "metadata": {},
     "output_type": "execute_result"
    }
   ],
   "source": [
    "# ? 쓸때 유의\n",
    "re.match('ca+?','caaab') # minimal  mode\n",
    "re.match('ca?','cab') # a 가 있거나 없거나, 이때는 greedy하게 있는 경우 돌려준다\n"
   ]
  },
  {
   "cell_type": "markdown",
   "id": "1a9873a1",
   "metadata": {},
   "source": [
    "#### findall\n",
    "- 패턴에 걸리는 모든 문자열을 리스트로"
   ]
  },
  {
   "attachments": {},
   "cell_type": "markdown",
   "id": "31e632ac",
   "metadata": {},
   "source": [
    "##### 궁금한게 search할때 만족하는게 여러개 있으면 어떻게 될까 \n",
    "- 앞에서 부터 찾는다\n",
    "- 만족하는 한 최대한 greedy한 값을 돌려준다 ex) *,+"
   ]
  },
  {
   "cell_type": "code",
   "execution_count": 65,
   "metadata": {},
   "outputs": [
    {
     "data": {
      "text/plain": [
       "<re.Match object; span=(2, 5), match='aad'>"
      ]
     },
     "execution_count": 65,
     "metadata": {},
     "output_type": "execute_result"
    }
   ],
   "source": [
    "# 아무리 뒤에가 더 그리디 하다해도 앞에서 부터 찾아간다\n",
    "# 그다음 greedy다\n",
    "\n",
    "re.search('[a-zA-Z]+','33aad bcdaasdfasfas')\n",
    "# aad를 먼저 찾아가고 \n",
    "# +니깐 aad다 돌려준다"
   ]
  },
  {
   "attachments": {},
   "cell_type": "markdown",
   "metadata": {},
   "source": [
    "- Adding ? after the quantifier makes it perform the match in non-greedy or minimal fashion"
   ]
  },
  {
   "cell_type": "code",
   "execution_count": 93,
   "metadata": {},
   "outputs": [
    {
     "data": {
      "text/plain": [
       "<re.Match object; span=(2, 3), match='a'>"
      ]
     },
     "execution_count": 93,
     "metadata": {},
     "output_type": "execute_result"
    }
   ],
   "source": [
    "# ? minimal mode \n",
    "re.search('[a-zA-Z]+?','33asdf') # a에서 멈춘다"
   ]
  },
  {
   "cell_type": "code",
   "execution_count": 100,
   "metadata": {},
   "outputs": [
    {
     "data": {
      "text/plain": [
       "<re.Match object; span=(0, 0), match=''>"
      ]
     },
     "execution_count": 100,
     "metadata": {},
     "output_type": "execute_result"
    },
    {
     "data": {
      "text/plain": [
       "<re.Match object; span=(0, 6), match='33asdf'>"
      ]
     },
     "execution_count": 100,
     "metadata": {},
     "output_type": "execute_result"
    },
    {
     "data": {
      "text/plain": [
       "<re.Match object; span=(0, 0), match=''>"
      ]
     },
     "execution_count": 100,
     "metadata": {},
     "output_type": "execute_result"
    }
   ],
   "source": [
    "# 항상 규칙이 들어맞지는 않는다\n",
    "re.search('[a-zA-Z]*?','33asdf') \n",
    "\n",
    "\n",
    "re.search('.*','33asdf') \n",
    "re.search('.*?','33asdf') "
   ]
  },
  {
   "cell_type": "markdown",
   "id": "1a9873a1",
   "metadata": {},
   "source": [
    "#### findall\n",
    "- 패턴에 걸리는 모든 문자열을 리스트로"
   ]
  },
  {
   "cell_type": "code",
   "execution_count": 96,
   "metadata": {},
   "outputs": [
    {
     "data": {
      "text/plain": [
       "['<tr>hi</tr> <tr>hiiiii</tr> <tr>hi</tr>']"
      ]
     },
     "execution_count": 96,
     "metadata": {},
     "output_type": "execute_result"
    }
   ],
   "source": [
    "# .: \\n 제외한 모든 문자\n",
    "# *: 0개이상\n",
    "\n",
    "re.findall('<tr>.*</tr>','<tr>hi</tr> <tr>hiiiii</tr> <tr>hi</tr>')"
   ]
  },
  {
   "cell_type": "code",
   "execution_count": 138,
   "metadata": {},
   "outputs": [
    {
     "data": {
      "text/plain": [
       "['<tr>hi</tr>', '<tr>hiiiii</tr>', '<tr>hi</tr>']"
      ]
     },
     "execution_count": 138,
     "metadata": {},
     "output_type": "execute_result"
    },
    {
     "data": {
      "text/plain": [
       "['<tr>hi</tr>', '<tr>hiiiii</tr>', '<tr>hi</tr>']"
      ]
     },
     "execution_count": 138,
     "metadata": {},
     "output_type": "execute_result"
    }
   ],
   "source": [
    "# 헷갈리면 안되는게\n",
    "\n",
    "re.findall('<tr>.*?</tr>','<tr>hi</tr> <tr>hiiiii</tr> <tr>hi</tr>') # minimal하게 뽑는다\n",
    "\n",
    "re.findall('<tr>\\w+</tr>','<tr>hi</tr> <tr>hiiiii</tr> <tr>hi</tr>') # 아예 \\w로 공백이 뽑힐 가능성 없애버리자"
   ]
  },
  {
   "cell_type": "code",
   "execution_count": 103,
   "metadata": {},
   "outputs": [
    {
     "data": {
      "text/plain": [
       "['life', 'is', 'good']"
      ]
     },
     "execution_count": 103,
     "metadata": {},
     "output_type": "execute_result"
    }
   ],
   "source": [
    "# 아무리 greedy가 적용이 되어도 \\w이기때문에 공백에서 막힌다\n",
    "re.findall('\\w+','life is good')"
   ]
  },
  {
   "attachments": {},
   "cell_type": "markdown",
   "id": "5ee4493f",
   "metadata": {},
   "source": [
    "#### group 이용하기\n",
    "- 반환값이 match일때 사용가능하다\n",
    "- <U>그룹의 시작과 끝은 ( )로 나타낸다</U>\n",
    "- 그룹을 사용하는 이유? => 패턴중 내가 원하는 부분만 추출 가능"
   ]
  },
  {
   "cell_type": "code",
   "execution_count": 121,
   "metadata": {},
   "outputs": [
    {
     "data": {
      "text/plain": [
       "<re.Match object; span=(0, 6), match='2IIIII'>"
      ]
     },
     "execution_count": 121,
     "metadata": {},
     "output_type": "execute_result"
    },
    {
     "data": {
      "text/plain": [
       "'2IIIIII'"
      ]
     },
     "execution_count": 121,
     "metadata": {},
     "output_type": "execute_result"
    },
    {
     "data": {
      "text/plain": [
       "'IIIIII'"
      ]
     },
     "execution_count": 121,
     "metadata": {},
     "output_type": "execute_result"
    }
   ],
   "source": [
    "re.search('[0-9]([a-zA-Z]+)','2IIIII like you!')\n",
    "\n",
    "re.search('[0-9]([a-zA-Z]+)','2IIIIII like you!').group(0)\n",
    "re.search('[0-9]([a-zA-Z]+)','2IIIIII like you!').group(1) # 패턴 중에 내가 원하는 부분"
   ]
  },
  {
   "cell_type": "code",
   "execution_count": 125,
   "metadata": {},
   "outputs": [
    {
     "data": {
      "text/plain": [
       "'2I33'"
      ]
     },
     "execution_count": 125,
     "metadata": {},
     "output_type": "execute_result"
    },
    {
     "data": {
      "text/plain": [
       "'I'"
      ]
     },
     "execution_count": 125,
     "metadata": {},
     "output_type": "execute_result"
    },
    {
     "data": {
      "text/plain": [
       "'33'"
      ]
     },
     "execution_count": 125,
     "metadata": {},
     "output_type": "execute_result"
    }
   ],
   "source": [
    "re.search('[0-9]([a-zA-Z]+)([0-9]+)','2I33').group(0) # 전체 match 문자열\n",
    "\n",
    "re.search('[0-9]([a-zA-Z]+)([0-9]+)','2I33').group(1) # 1번 group\n",
    "\n",
    "re.search('[0-9]([a-zA-Z]+)([0-9]+)','2I33').group(2) # 2번 group\n"
   ]
  },
  {
   "attachments": {},
   "cell_type": "markdown",
   "metadata": {},
   "source": [
    "#### match 객체\n",
    "\n",
    "- group()\t매치된 문자열을 리턴한다.\n",
    "- start()\t매치된 문자열의 시작 위치를 리턴한다.\n",
    "- end()\t매치된 문자열의 끝 위치를 리턴한다.\n",
    "- span()\t매치된 문자열의 (시작, 끝)에 해당하는 튜플을 리턴한다."
   ]
  },
  {
   "cell_type": "code",
   "execution_count": 141,
   "metadata": {},
   "outputs": [
    {
     "data": {
      "text/plain": [
       "('life', 0, 4, (0, 4))"
      ]
     },
     "execution_count": 141,
     "metadata": {},
     "output_type": "execute_result"
    },
    {
     "data": {
      "text/plain": [
       "('is', 5, 7, (5, 7))"
      ]
     },
     "execution_count": 141,
     "metadata": {},
     "output_type": "execute_result"
    },
    {
     "data": {
      "text/plain": [
       "('good', 8, 12, (8, 12))"
      ]
     },
     "execution_count": 141,
     "metadata": {},
     "output_type": "execute_result"
    }
   ],
   "source": [
    "for r in re.finditer('\\w+','life is good'):\n",
    "    r.group(),r.start(),r.end(),r.span()"
   ]
  },
  {
   "attachments": {},
   "cell_type": "markdown",
   "metadata": {},
   "source": [
    "#### finditer\n",
    "- find all 과 비슷하게 수행되지만\n",
    "- return값이 list가 아니라 callable_iterator => for문 사용 가능\n",
    "- iterator 안에는 match 객체들로 채워져있다"
   ]
  },
  {
   "cell_type": "code",
   "execution_count": 130,
   "metadata": {},
   "outputs": [
    {
     "data": {
      "text/plain": [
       "['life', 'is', 'good']"
      ]
     },
     "execution_count": 130,
     "metadata": {},
     "output_type": "execute_result"
    },
    {
     "data": {
      "text/plain": [
       "callable_iterator"
      ]
     },
     "execution_count": 130,
     "metadata": {},
     "output_type": "execute_result"
    },
    {
     "data": {
      "text/plain": [
       "<re.Match object; span=(0, 4), match='life'>"
      ]
     },
     "execution_count": 130,
     "metadata": {},
     "output_type": "execute_result"
    },
    {
     "data": {
      "text/plain": [
       "<re.Match object; span=(5, 7), match='is'>"
      ]
     },
     "execution_count": 130,
     "metadata": {},
     "output_type": "execute_result"
    },
    {
     "data": {
      "text/plain": [
       "<re.Match object; span=(8, 12), match='good'>"
      ]
     },
     "execution_count": 130,
     "metadata": {},
     "output_type": "execute_result"
    }
   ],
   "source": [
    "re.findall('\\w+','life is good')\n",
    "\n",
    "type(re.finditer('\\w+','life is good'))\n",
    "\n",
    "for r in re.finditer('\\w+','life is good'):\n",
    "    r"
   ]
  },
  {
   "cell_type": "code",
   "execution_count": 139,
   "metadata": {},
   "outputs": [
    {
     "data": {
      "text/plain": [
       "'hi'"
      ]
     },
     "execution_count": 139,
     "metadata": {},
     "output_type": "execute_result"
    },
    {
     "data": {
      "text/plain": [
       "0"
      ]
     },
     "execution_count": 139,
     "metadata": {},
     "output_type": "execute_result"
    },
    {
     "data": {
      "text/plain": [
       "'hiiiii'"
      ]
     },
     "execution_count": 139,
     "metadata": {},
     "output_type": "execute_result"
    },
    {
     "data": {
      "text/plain": [
       "12"
      ]
     },
     "execution_count": 139,
     "metadata": {},
     "output_type": "execute_result"
    },
    {
     "data": {
      "text/plain": [
       "'hi'"
      ]
     },
     "execution_count": 139,
     "metadata": {},
     "output_type": "execute_result"
    },
    {
     "data": {
      "text/plain": [
       "28"
      ]
     },
     "execution_count": 139,
     "metadata": {},
     "output_type": "execute_result"
    }
   ],
   "source": [
    "# 응용\n",
    "# 아주 유용하다\n",
    "for r in re.finditer('<tr>(.*?)</tr>','<tr>hi</tr> <tr>hiiiii</tr> <tr>hi</tr>'):\n",
    "    r.group(1)"
   ]
  },
  {
   "attachments": {},
   "cell_type": "markdown",
   "metadata": {},
   "source": [
    "### 3.pandas string\n",
    "- .str를 통해 pandas str 메서드 접근 가능\n",
    "- 벡터화된 문자열 메서드를 지원한다\n",
    "- 메서드 뿐만 아닌 인덱싱 슬라이싱도 가능하다\n",
    "\n",
    "**대부분 파이썬 문자열 내장함수들이다**"
   ]
  },
  {
   "cell_type": "code",
   "execution_count": 144,
   "metadata": {},
   "outputs": [],
   "source": [
    "import pandas as pd"
   ]
  },
  {
   "cell_type": "code",
   "execution_count": 145,
   "metadata": {},
   "outputs": [
    {
     "data": {
      "text/plain": [
       "0    Graham Chapman\n",
       "1       John Cleese\n",
       "2     Terry Gilliam\n",
       "3         Eric Idle\n",
       "4     Micahel Palin\n",
       "dtype: object"
      ]
     },
     "execution_count": 145,
     "metadata": {},
     "output_type": "execute_result"
    }
   ],
   "source": [
    "monte = pd.Series(['Graham Chapman','John Cleese','Terry Gilliam','Eric Idle','Micahel Palin'])\n",
    "monte"
   ]
  },
  {
   "cell_type": "code",
   "execution_count": 149,
   "metadata": {},
   "outputs": [
    {
     "data": {
      "text/plain": [
       "0    GRAHAM CHAPMAN\n",
       "1       JOHN CLEESE\n",
       "2     TERRY GILLIAM\n",
       "3         ERIC IDLE\n",
       "4     MICAHEL PALIN\n",
       "dtype: object"
      ]
     },
     "execution_count": 149,
     "metadata": {},
     "output_type": "execute_result"
    },
    {
     "data": {
      "text/plain": [
       "0    graham chapman\n",
       "1       john cleese\n",
       "2     terry gilliam\n",
       "3         eric idle\n",
       "4     micahel palin\n",
       "dtype: object"
      ]
     },
     "execution_count": 149,
     "metadata": {},
     "output_type": "execute_result"
    }
   ],
   "source": [
    "monte.str.upper()\n",
    "monte.str.lower()"
   ]
  },
  {
   "cell_type": "code",
   "execution_count": 151,
   "metadata": {},
   "outputs": [
    {
     "data": {
      "text/plain": [
       "0    False\n",
       "1    False\n",
       "2     True\n",
       "3    False\n",
       "4    False\n",
       "dtype: bool"
      ]
     },
     "execution_count": 151,
     "metadata": {},
     "output_type": "execute_result"
    }
   ],
   "source": [
    "monte.str.startswith('T') # boolean 반환"
   ]
  },
  {
   "cell_type": "code",
   "execution_count": 152,
   "metadata": {},
   "outputs": [
    {
     "data": {
      "text/plain": [
       "0    0\n",
       "1   -1\n",
       "2    6\n",
       "3   -1\n",
       "4   -1\n",
       "dtype: int64"
      ]
     },
     "execution_count": 152,
     "metadata": {},
     "output_type": "execute_result"
    }
   ],
   "source": [
    "# 위치 반환 \n",
    "# 없으면 -1값이었지\n",
    "monte.str.find('G')"
   ]
  },
  {
   "cell_type": "code",
   "execution_count": 153,
   "metadata": {},
   "outputs": [
    {
     "data": {
      "text/plain": [
       "0    14\n",
       "1    11\n",
       "2    13\n",
       "3     9\n",
       "4    13\n",
       "dtype: int64"
      ]
     },
     "execution_count": 153,
     "metadata": {},
     "output_type": "execute_result"
    }
   ],
   "source": [
    "# 길이 \n",
    "monte.str.len()"
   ]
  },
  {
   "cell_type": "code",
   "execution_count": 156,
   "metadata": {},
   "outputs": [
    {
     "data": {
      "text/plain": [
       "0    ㅁraham Chapman\n",
       "1       John Cleese\n",
       "2     Terry ㅁilliam\n",
       "3         Eric Idle\n",
       "4     Micahel Palin\n",
       "dtype: object"
      ]
     },
     "execution_count": 156,
     "metadata": {},
     "output_type": "execute_result"
    }
   ],
   "source": [
    "monte.str.replace('G','ㅁ')"
   ]
  },
  {
   "cell_type": "code",
   "execution_count": 154,
   "metadata": {},
   "outputs": [
    {
     "data": {
      "text/plain": [
       "0    [Graham, Chapman]\n",
       "1       [John, Cleese]\n",
       "2     [Terry, Gilliam]\n",
       "3         [Eric, Idle]\n",
       "4     [Micahel, Palin]\n",
       "dtype: object"
      ]
     },
     "execution_count": 154,
     "metadata": {},
     "output_type": "execute_result"
    }
   ],
   "source": [
    "monte.str.split()"
   ]
  },
  {
   "cell_type": "code",
   "execution_count": 168,
   "metadata": {},
   "outputs": [
    {
     "data": {
      "text/plain": [
       "0    Gra\n",
       "1    Joh\n",
       "2    Ter\n",
       "3    Eri\n",
       "4    Mic\n",
       "dtype: object"
      ]
     },
     "execution_count": 168,
     "metadata": {},
     "output_type": "execute_result"
    }
   ],
   "source": [
    "monte.str[:3]"
   ]
  },
  {
   "attachments": {},
   "cell_type": "markdown",
   "metadata": {},
   "source": [
    "### 4.pandas 정규표현식\n",
    "re모듈을 기반으로 하고 있지만 조금 다른것도 있다\n",
    "- macth() => re.match() 호출 부울 값 반환 (~로 시작하냐)\n",
    "- containis() => re.search() 호출 부울 값 반환\n",
    "- extract() => re.match() 호출, 매칭된 그룹 반환\n",
    "- findall() => re.findall()\n",
    "- replace() => 패턴이 발생한 곳 다른 문자열로 대체\n",
    "- split() => str.split()과 동일하지만 정규표현식 pattern 받아들임\n"
   ]
  },
  {
   "cell_type": "code",
   "execution_count": 157,
   "metadata": {},
   "outputs": [
    {
     "data": {
      "text/plain": [
       "0    Graham Chapman\n",
       "1       John Cleese\n",
       "2     Terry Gilliam\n",
       "3         Eric Idle\n",
       "4     Micahel Palin\n",
       "dtype: object"
      ]
     },
     "execution_count": 157,
     "metadata": {},
     "output_type": "execute_result"
    }
   ],
   "source": [
    "monte = pd.Series(['Graham Chapman','John Cleese','Terry Gilliam','Eric Idle','Micahel Palin'])\n",
    "monte"
   ]
  },
  {
   "cell_type": "code",
   "execution_count": 165,
   "metadata": {},
   "outputs": [
    {
     "data": {
      "text/plain": [
       "0    True\n",
       "1    True\n",
       "2    True\n",
       "3    True\n",
       "4    True\n",
       "dtype: bool"
      ]
     },
     "execution_count": 165,
     "metadata": {},
     "output_type": "execute_result"
    }
   ],
   "source": [
    "monte.str.match('\\w+')"
   ]
  },
  {
   "cell_type": "code",
   "execution_count": 167,
   "metadata": {},
   "outputs": [
    {
     "data": {
      "text/plain": [
       "0    False\n",
       "1    False\n",
       "2    False\n",
       "3    False\n",
       "4    False\n",
       "dtype: bool"
      ]
     },
     "execution_count": 167,
     "metadata": {},
     "output_type": "execute_result"
    },
    {
     "data": {
      "text/plain": [
       "0    True\n",
       "1    True\n",
       "2    True\n",
       "3    True\n",
       "4    True\n",
       "dtype: bool"
      ]
     },
     "execution_count": 167,
     "metadata": {},
     "output_type": "execute_result"
    }
   ],
   "source": [
    "monte.str.match(' ')  #공백으로 시작?\n",
    "\n",
    "monte.str.contains(' ') # 공백 존재?"
   ]
  },
  {
   "cell_type": "code",
   "execution_count": 164,
   "metadata": {},
   "outputs": [
    {
     "data": {
      "text/html": [
       "<div>\n",
       "<style scoped>\n",
       "    .dataframe tbody tr th:only-of-type {\n",
       "        vertical-align: middle;\n",
       "    }\n",
       "\n",
       "    .dataframe tbody tr th {\n",
       "        vertical-align: top;\n",
       "    }\n",
       "\n",
       "    .dataframe thead th {\n",
       "        text-align: right;\n",
       "    }\n",
       "</style>\n",
       "<table border=\"1\" class=\"dataframe\">\n",
       "  <thead>\n",
       "    <tr style=\"text-align: right;\">\n",
       "      <th></th>\n",
       "      <th>0</th>\n",
       "    </tr>\n",
       "  </thead>\n",
       "  <tbody>\n",
       "    <tr>\n",
       "      <th>0</th>\n",
       "      <td>Graham</td>\n",
       "    </tr>\n",
       "    <tr>\n",
       "      <th>1</th>\n",
       "      <td>John</td>\n",
       "    </tr>\n",
       "    <tr>\n",
       "      <th>2</th>\n",
       "      <td>Terry</td>\n",
       "    </tr>\n",
       "    <tr>\n",
       "      <th>3</th>\n",
       "      <td>Eric</td>\n",
       "    </tr>\n",
       "    <tr>\n",
       "      <th>4</th>\n",
       "      <td>Micahel</td>\n",
       "    </tr>\n",
       "  </tbody>\n",
       "</table>\n",
       "</div>"
      ],
      "text/plain": [
       "         0\n",
       "0   Graham\n",
       "1     John\n",
       "2    Terry\n",
       "3     Eric\n",
       "4  Micahel"
      ]
     },
     "execution_count": 164,
     "metadata": {},
     "output_type": "execute_result"
    }
   ],
   "source": [
    "monte.str.extract('(\\w+) \\w+') # 그룹 1만 존재"
   ]
  },
  {
   "cell_type": "code",
   "execution_count": 162,
   "metadata": {},
   "outputs": [
    {
     "data": {
      "text/html": [
       "<div>\n",
       "<style scoped>\n",
       "    .dataframe tbody tr th:only-of-type {\n",
       "        vertical-align: middle;\n",
       "    }\n",
       "\n",
       "    .dataframe tbody tr th {\n",
       "        vertical-align: top;\n",
       "    }\n",
       "\n",
       "    .dataframe thead th {\n",
       "        text-align: right;\n",
       "    }\n",
       "</style>\n",
       "<table border=\"1\" class=\"dataframe\">\n",
       "  <thead>\n",
       "    <tr style=\"text-align: right;\">\n",
       "      <th></th>\n",
       "      <th>0</th>\n",
       "      <th>1</th>\n",
       "    </tr>\n",
       "  </thead>\n",
       "  <tbody>\n",
       "    <tr>\n",
       "      <th>0</th>\n",
       "      <td>Graham</td>\n",
       "      <td>Chapman</td>\n",
       "    </tr>\n",
       "    <tr>\n",
       "      <th>1</th>\n",
       "      <td>John</td>\n",
       "      <td>Cleese</td>\n",
       "    </tr>\n",
       "    <tr>\n",
       "      <th>2</th>\n",
       "      <td>Terry</td>\n",
       "      <td>Gilliam</td>\n",
       "    </tr>\n",
       "    <tr>\n",
       "      <th>3</th>\n",
       "      <td>Eric</td>\n",
       "      <td>Idle</td>\n",
       "    </tr>\n",
       "    <tr>\n",
       "      <th>4</th>\n",
       "      <td>Micahel</td>\n",
       "      <td>Palin</td>\n",
       "    </tr>\n",
       "  </tbody>\n",
       "</table>\n",
       "</div>"
      ],
      "text/plain": [
       "         0        1\n",
       "0   Graham  Chapman\n",
       "1     John   Cleese\n",
       "2    Terry  Gilliam\n",
       "3     Eric     Idle\n",
       "4  Micahel    Palin"
      ]
     },
     "execution_count": 162,
     "metadata": {},
     "output_type": "execute_result"
    }
   ],
   "source": [
    "monte.str.extract('(\\w+) (\\w+)') # 그룹 1 ,그룹2"
   ]
  },
  {
   "cell_type": "markdown",
   "metadata": {},
   "source": [
    "### 5. 부가적인 pandas 문자열 함수들"
   ]
  },
  {
   "cell_type": "code",
   "execution_count": 176,
   "metadata": {},
   "outputs": [
    {
     "data": {
      "text/plain": [
       "0    Graham Chapman\n",
       "1       John Cleese\n",
       "2     Terry Gilliam\n",
       "3         Eric Idle\n",
       "4     Micahel Palin\n",
       "dtype: object"
      ]
     },
     "execution_count": 176,
     "metadata": {},
     "output_type": "execute_result"
    }
   ],
   "source": [
    "monte = pd.Series(['Graham Chapman','John Cleese','Terry Gilliam','Eric Idle','Micahel Palin'])\n",
    "monte"
   ]
  },
  {
   "cell_type": "code",
   "execution_count": 178,
   "metadata": {},
   "outputs": [
    {
     "data": {
      "text/plain": [
       "'Graham Chapman'"
      ]
     },
     "execution_count": 178,
     "metadata": {},
     "output_type": "execute_result"
    }
   ],
   "source": [
    "monte.get(0)"
   ]
  },
  {
   "cell_type": "code",
   "execution_count": 177,
   "metadata": {},
   "outputs": [
    {
     "data": {
      "text/plain": [
       "['Graham', 'Chapman']"
      ]
     },
     "execution_count": 177,
     "metadata": {},
     "output_type": "execute_result"
    }
   ],
   "source": [
    "monte.str.split().get(0)"
   ]
  },
  {
   "cell_type": "code",
   "execution_count": 174,
   "metadata": {},
   "outputs": [
    {
     "data": {
      "text/plain": [
       "0     Graham\n",
       "1       John\n",
       "2      Terry\n",
       "3       Eric\n",
       "4    Micahel\n",
       "dtype: object"
      ]
     },
     "execution_count": 174,
     "metadata": {},
     "output_type": "execute_result"
    }
   ],
   "source": [
    "monte.str.split().str.get(0)"
   ]
  },
  {
   "cell_type": "code",
   "execution_count": 179,
   "metadata": {},
   "outputs": [
    {
     "data": {
      "text/plain": [
       "0    G,r,a,h,a,m, ,C,h,a,p,m,a,n\n",
       "1          J,o,h,n, ,C,l,e,e,s,e\n",
       "2      T,e,r,r,y, ,G,i,l,l,i,a,m\n",
       "3              E,r,i,c, ,I,d,l,e\n",
       "4      M,i,c,a,h,e,l, ,P,a,l,i,n\n",
       "dtype: object"
      ]
     },
     "execution_count": 179,
     "metadata": {},
     "output_type": "execute_result"
    }
   ],
   "source": [
    "monte.str.join(',')"
   ]
  }
 ],
 "metadata": {
  "kernelspec": {
   "display_name": "Python 3",
   "language": "python",
   "name": "python3"
  },
  "language_info": {
   "codemirror_mode": {
    "name": "ipython",
    "version": 3
   },
   "file_extension": ".py",
   "mimetype": "text/x-python",
   "name": "python",
   "nbconvert_exporter": "python",
   "pygments_lexer": "ipython3",
   "version": "3.9.1 (v3.9.1:1e5d33e9b9, Dec  7 2020, 12:10:52) \n[Clang 6.0 (clang-600.0.57)]"
  },
  "orig_nbformat": 4,
  "vscode": {
   "interpreter": {
    "hash": "aee8b7b246df8f9039afb4144a1f6fd8d2ca17a180786b69acc140d282b71a49"
   }
  }
 },
 "nbformat": 4,
 "nbformat_minor": 2
}
